{
 "cells": [
  {
   "cell_type": "code",
   "execution_count": 1,
   "id": "5f277d0f",
   "metadata": {},
   "outputs": [],
   "source": [
    "import pandas as pd"
   ]
  },
  {
   "cell_type": "code",
   "execution_count": 2,
   "id": "0040ef65",
   "metadata": {},
   "outputs": [],
   "source": [
    "from translate import Translator"
   ]
  },
  {
   "cell_type": "code",
   "execution_count": 7,
   "id": "b0974808",
   "metadata": {},
   "outputs": [
    {
     "data": {
      "text/html": [
       "<div>\n",
       "<style scoped>\n",
       "    .dataframe tbody tr th:only-of-type {\n",
       "        vertical-align: middle;\n",
       "    }\n",
       "\n",
       "    .dataframe tbody tr th {\n",
       "        vertical-align: top;\n",
       "    }\n",
       "\n",
       "    .dataframe thead th {\n",
       "        text-align: right;\n",
       "    }\n",
       "</style>\n",
       "<table border=\"1\" class=\"dataframe\">\n",
       "  <thead>\n",
       "    <tr style=\"text-align: right;\">\n",
       "      <th></th>\n",
       "      <th>English words/sentences</th>\n",
       "    </tr>\n",
       "  </thead>\n",
       "  <tbody>\n",
       "    <tr>\n",
       "      <th>0</th>\n",
       "      <td>Hi.</td>\n",
       "    </tr>\n",
       "    <tr>\n",
       "      <th>1</th>\n",
       "      <td>Run!</td>\n",
       "    </tr>\n",
       "    <tr>\n",
       "      <th>2</th>\n",
       "      <td>Run!</td>\n",
       "    </tr>\n",
       "    <tr>\n",
       "      <th>3</th>\n",
       "      <td>Who?</td>\n",
       "    </tr>\n",
       "    <tr>\n",
       "      <th>4</th>\n",
       "      <td>Wow!</td>\n",
       "    </tr>\n",
       "  </tbody>\n",
       "</table>\n",
       "</div>"
      ],
      "text/plain": [
       "  English words/sentences\n",
       "0                     Hi.\n",
       "1                    Run!\n",
       "2                    Run!\n",
       "3                    Who?\n",
       "4                    Wow!"
      ]
     },
     "execution_count": 7,
     "metadata": {},
     "output_type": "execute_result"
    }
   ],
   "source": [
    "df=pd.read_csv(\"G:/csv_files/English.csv\")\n",
    "df.head(5)"
   ]
  },
  {
   "cell_type": "code",
   "execution_count": 3,
   "id": "21bc2635",
   "metadata": {},
   "outputs": [],
   "source": [
    "translator= Translator( to_lang=\"ta\", from_lang='en')\n",
    "translation = translator.translate(\"This is a pen.\")"
   ]
  },
  {
   "cell_type": "code",
   "execution_count": 4,
   "id": "34246e84",
   "metadata": {},
   "outputs": [
    {
     "data": {
      "text/plain": [
       "'இது ஒரு பேனா.'"
      ]
     },
     "execution_count": 4,
     "metadata": {},
     "output_type": "execute_result"
    }
   ],
   "source": [
    "translation"
   ]
  },
  {
   "cell_type": "code",
   "execution_count": 5,
   "id": "56f0577f",
   "metadata": {},
   "outputs": [],
   "source": [
    "def translator(sent,to_lang):\n",
    "    translator= Translator( to_lang=to_lang,from_lang='en')\n",
    "    return translator.translate(sent)"
   ]
  },
  {
   "cell_type": "code",
   "execution_count": 8,
   "id": "b8b62d91",
   "metadata": {},
   "outputs": [],
   "source": [
    "s=df.iloc[159464][\"English words/sentences\"]"
   ]
  },
  {
   "cell_type": "code",
   "execution_count": 9,
   "id": "4bf55cee",
   "metadata": {},
   "outputs": [
    {
     "data": {
      "text/plain": [
       "'நீங்கள் விரும்பும் குறிப்பாக ஏதாவது உள்ளதா?'"
      ]
     },
     "execution_count": 9,
     "metadata": {},
     "output_type": "execute_result"
    }
   ],
   "source": [
    "translator(s,\"ta\")"
   ]
  },
  {
   "cell_type": "code",
   "execution_count": 10,
   "id": "9f80605f",
   "metadata": {},
   "outputs": [
    {
     "data": {
      "text/plain": [
       "(175621, 1)"
      ]
     },
     "execution_count": 10,
     "metadata": {},
     "output_type": "execute_result"
    }
   ],
   "source": [
    "df.shape"
   ]
  },
  {
   "cell_type": "code",
   "execution_count": 11,
   "id": "dc645c56",
   "metadata": {},
   "outputs": [],
   "source": [
    "df=df.sample(50)"
   ]
  },
  {
   "cell_type": "code",
   "execution_count": 12,
   "id": "b54f1396",
   "metadata": {},
   "outputs": [
    {
     "data": {
      "text/html": [
       "<div>\n",
       "<style scoped>\n",
       "    .dataframe tbody tr th:only-of-type {\n",
       "        vertical-align: middle;\n",
       "    }\n",
       "\n",
       "    .dataframe tbody tr th {\n",
       "        vertical-align: top;\n",
       "    }\n",
       "\n",
       "    .dataframe thead th {\n",
       "        text-align: right;\n",
       "    }\n",
       "</style>\n",
       "<table border=\"1\" class=\"dataframe\">\n",
       "  <thead>\n",
       "    <tr style=\"text-align: right;\">\n",
       "      <th></th>\n",
       "      <th>English words/sentences</th>\n",
       "    </tr>\n",
       "  </thead>\n",
       "  <tbody>\n",
       "    <tr>\n",
       "      <th>157861</th>\n",
       "      <td>If it is fine tomorrow, we will play baseball.</td>\n",
       "    </tr>\n",
       "    <tr>\n",
       "      <th>175089</th>\n",
       "      <td>I talked to your doctor. He told me that you n...</td>\n",
       "    </tr>\n",
       "    <tr>\n",
       "      <th>12563</th>\n",
       "      <td>Times are tough.</td>\n",
       "    </tr>\n",
       "    <tr>\n",
       "      <th>148506</th>\n",
       "      <td>Tom and Mary were on the same wavelength.</td>\n",
       "    </tr>\n",
       "    <tr>\n",
       "      <th>152500</th>\n",
       "      <td>One police officer suffered minor injuries.</td>\n",
       "    </tr>\n",
       "  </tbody>\n",
       "</table>\n",
       "</div>"
      ],
      "text/plain": [
       "                                  English words/sentences\n",
       "157861     If it is fine tomorrow, we will play baseball.\n",
       "175089  I talked to your doctor. He told me that you n...\n",
       "12563                                    Times are tough.\n",
       "148506          Tom and Mary were on the same wavelength.\n",
       "152500        One police officer suffered minor injuries."
      ]
     },
     "execution_count": 12,
     "metadata": {},
     "output_type": "execute_result"
    }
   ],
   "source": [
    "df.head()"
   ]
  },
  {
   "cell_type": "code",
   "execution_count": 13,
   "id": "4509dd4e",
   "metadata": {},
   "outputs": [],
   "source": [
    "df[\"spanish\"]=df[\"English words/sentences\"].apply(lambda x: translator(x,\"es\"))"
   ]
  },
  {
   "cell_type": "code",
   "execution_count": 15,
   "id": "c3fa8949",
   "metadata": {},
   "outputs": [
    {
     "data": {
      "text/html": [
       "<div>\n",
       "<style scoped>\n",
       "    .dataframe tbody tr th:only-of-type {\n",
       "        vertical-align: middle;\n",
       "    }\n",
       "\n",
       "    .dataframe tbody tr th {\n",
       "        vertical-align: top;\n",
       "    }\n",
       "\n",
       "    .dataframe thead th {\n",
       "        text-align: right;\n",
       "    }\n",
       "</style>\n",
       "<table border=\"1\" class=\"dataframe\">\n",
       "  <thead>\n",
       "    <tr style=\"text-align: right;\">\n",
       "      <th></th>\n",
       "      <th>English words/sentences</th>\n",
       "      <th>spanish</th>\n",
       "    </tr>\n",
       "  </thead>\n",
       "  <tbody>\n",
       "    <tr>\n",
       "      <th>157861</th>\n",
       "      <td>If it is fine tomorrow, we will play baseball.</td>\n",
       "      <td>Si mañana está lindo, jugaremos al béisbol.</td>\n",
       "    </tr>\n",
       "    <tr>\n",
       "      <th>175089</th>\n",
       "      <td>I talked to your doctor. He told me that you n...</td>\n",
       "      <td>Hablé con tu médico. Me dijo que tenías que qu...</td>\n",
       "    </tr>\n",
       "    <tr>\n",
       "      <th>12563</th>\n",
       "      <td>Times are tough.</td>\n",
       "      <td>Los tiempos son difíciles.</td>\n",
       "    </tr>\n",
       "    <tr>\n",
       "      <th>148506</th>\n",
       "      <td>Tom and Mary were on the same wavelength.</td>\n",
       "      <td>Tom y Mary estaban en la misma sintonía.</td>\n",
       "    </tr>\n",
       "  </tbody>\n",
       "</table>\n",
       "</div>"
      ],
      "text/plain": [
       "                                  English words/sentences  \\\n",
       "157861     If it is fine tomorrow, we will play baseball.   \n",
       "175089  I talked to your doctor. He told me that you n...   \n",
       "12563                                    Times are tough.   \n",
       "148506          Tom and Mary were on the same wavelength.   \n",
       "\n",
       "                                                  spanish  \n",
       "157861        Si mañana está lindo, jugaremos al béisbol.  \n",
       "175089  Hablé con tu médico. Me dijo que tenías que qu...  \n",
       "12563                          Los tiempos son difíciles.  \n",
       "148506           Tom y Mary estaban en la misma sintonía.  "
      ]
     },
     "execution_count": 15,
     "metadata": {},
     "output_type": "execute_result"
    }
   ],
   "source": [
    "df.head(4)"
   ]
  },
  {
   "cell_type": "code",
   "execution_count": 23,
   "id": "81e92c2c",
   "metadata": {},
   "outputs": [],
   "source": [
    "df[\"FRENCH\"]=df[\"English words/sentences\"].apply(lambda x: translator(x,\"fr\"))\n",
    "df[\"GERMAN\"]=df[\"English words/sentences\"].apply(lambda x: translator(x,\"de\"))"
   ]
  },
  {
   "cell_type": "code",
   "execution_count": 24,
   "id": "e6220f35",
   "metadata": {},
   "outputs": [
    {
     "data": {
      "text/html": [
       "<div>\n",
       "<style scoped>\n",
       "    .dataframe tbody tr th:only-of-type {\n",
       "        vertical-align: middle;\n",
       "    }\n",
       "\n",
       "    .dataframe tbody tr th {\n",
       "        vertical-align: top;\n",
       "    }\n",
       "\n",
       "    .dataframe thead th {\n",
       "        text-align: right;\n",
       "    }\n",
       "</style>\n",
       "<table border=\"1\" class=\"dataframe\">\n",
       "  <thead>\n",
       "    <tr style=\"text-align: right;\">\n",
       "      <th></th>\n",
       "      <th>English words/sentences</th>\n",
       "      <th>spanish</th>\n",
       "      <th>FRENCH</th>\n",
       "      <th>GERMAN</th>\n",
       "    </tr>\n",
       "  </thead>\n",
       "  <tbody>\n",
       "    <tr>\n",
       "      <th>157861</th>\n",
       "      <td>If it is fine tomorrow, we will play baseball.</td>\n",
       "      <td>Si mañana está lindo, jugaremos al béisbol.</td>\n",
       "      <td>S'il fait beau demain, nous irons jouer au bas...</td>\n",
       "      <td>Wenn es morgen schön ist, spielen wir Baseball.</td>\n",
       "    </tr>\n",
       "    <tr>\n",
       "      <th>175089</th>\n",
       "      <td>I talked to your doctor. He told me that you n...</td>\n",
       "      <td>Hablé con tu médico. Me dijo que tenías que qu...</td>\n",
       "      <td>J'ai parlé à votre médecin. Il m'a dit que tu ...</td>\n",
       "      <td>Ich habe mit deinem Arzt geredet und er sagte,...</td>\n",
       "    </tr>\n",
       "    <tr>\n",
       "      <th>12563</th>\n",
       "      <td>Times are tough.</td>\n",
       "      <td>Los tiempos son difíciles.</td>\n",
       "      <td>Les temps sont difficiles.</td>\n",
       "      <td>Die Zeiten sind hart.</td>\n",
       "    </tr>\n",
       "    <tr>\n",
       "      <th>148506</th>\n",
       "      <td>Tom and Mary were on the same wavelength.</td>\n",
       "      <td>Tom y Mary estaban en la misma sintonía.</td>\n",
       "      <td>Tom et Marie étaient sur la même longueur d’onde.</td>\n",
       "      <td>Tom und Maria waren auf derselben Wellenlänge.</td>\n",
       "    </tr>\n",
       "    <tr>\n",
       "      <th>152500</th>\n",
       "      <td>One police officer suffered minor injuries.</td>\n",
       "      <td>Un agente de policía sufrió heridas leves.</td>\n",
       "      <td>Un policier a été légèrement blessé.</td>\n",
       "      <td>Ein Polizist erlitt leichte Verletzungen.</td>\n",
       "    </tr>\n",
       "    <tr>\n",
       "      <th>149062</th>\n",
       "      <td>Are you familiar with the rules of soccer?</td>\n",
       "      <td>¿Conoces las reglas del fútbol?</td>\n",
       "      <td>Connais-tu les règles du football ?</td>\n",
       "      <td>Sind Sie mit den Fußballregeln vertraut?</td>\n",
       "    </tr>\n",
       "    <tr>\n",
       "      <th>89981</th>\n",
       "      <td>I know other people like Tom.</td>\n",
       "      <td>Conozco a otras personas como Tom.</td>\n",
       "      <td>Je connais d'autres gens comme Tom.</td>\n",
       "      <td>Ich kenne andere Leute wie Tom.</td>\n",
       "    </tr>\n",
       "    <tr>\n",
       "      <th>150272</th>\n",
       "      <td>Many young people in Spain are unemployed.</td>\n",
       "      <td>Muchos jóvenes en España son desempleados.</td>\n",
       "      <td>De nombreux jeunes en Espagne sont sans emploi.</td>\n",
       "      <td>In Spanien sind viele junge Menschen arbeitlos.</td>\n",
       "    </tr>\n",
       "    <tr>\n",
       "      <th>95284</th>\n",
       "      <td>Father bought me a motorcycle.</td>\n",
       "      <td>Mi padre me ha comprado una moto.</td>\n",
       "      <td>Mon père m'a acheté une moto.</td>\n",
       "      <td>Vater hat mir ein Motorrad gekauft.</td>\n",
       "    </tr>\n",
       "    <tr>\n",
       "      <th>95336</th>\n",
       "      <td>Has something happened to Tom?</td>\n",
       "      <td>Algo le pasó a Tom.</td>\n",
       "      <td>Quelque chose est arrivé à Tom ?</td>\n",
       "      <td>Ist Tom etwas zugestoßen?</td>\n",
       "    </tr>\n",
       "  </tbody>\n",
       "</table>\n",
       "</div>"
      ],
      "text/plain": [
       "                                  English words/sentences  \\\n",
       "157861     If it is fine tomorrow, we will play baseball.   \n",
       "175089  I talked to your doctor. He told me that you n...   \n",
       "12563                                    Times are tough.   \n",
       "148506          Tom and Mary were on the same wavelength.   \n",
       "152500        One police officer suffered minor injuries.   \n",
       "149062         Are you familiar with the rules of soccer?   \n",
       "89981                       I know other people like Tom.   \n",
       "150272         Many young people in Spain are unemployed.   \n",
       "95284                      Father bought me a motorcycle.   \n",
       "95336                      Has something happened to Tom?   \n",
       "\n",
       "                                                  spanish  \\\n",
       "157861        Si mañana está lindo, jugaremos al béisbol.   \n",
       "175089  Hablé con tu médico. Me dijo que tenías que qu...   \n",
       "12563                          Los tiempos son difíciles.   \n",
       "148506           Tom y Mary estaban en la misma sintonía.   \n",
       "152500         Un agente de policía sufrió heridas leves.   \n",
       "149062                    ¿Conoces las reglas del fútbol?   \n",
       "89981                  Conozco a otras personas como Tom.   \n",
       "150272         Muchos jóvenes en España son desempleados.   \n",
       "95284                   Mi padre me ha comprado una moto.   \n",
       "95336                                 Algo le pasó a Tom.   \n",
       "\n",
       "                                                   FRENCH  \\\n",
       "157861  S'il fait beau demain, nous irons jouer au bas...   \n",
       "175089  J'ai parlé à votre médecin. Il m'a dit que tu ...   \n",
       "12563                          Les temps sont difficiles.   \n",
       "148506  Tom et Marie étaient sur la même longueur d’onde.   \n",
       "152500               Un policier a été légèrement blessé.   \n",
       "149062                Connais-tu les règles du football ?   \n",
       "89981                 Je connais d'autres gens comme Tom.   \n",
       "150272    De nombreux jeunes en Espagne sont sans emploi.   \n",
       "95284                       Mon père m'a acheté une moto.   \n",
       "95336                    Quelque chose est arrivé à Tom ?   \n",
       "\n",
       "                                                   GERMAN  \n",
       "157861    Wenn es morgen schön ist, spielen wir Baseball.  \n",
       "175089  Ich habe mit deinem Arzt geredet und er sagte,...  \n",
       "12563                               Die Zeiten sind hart.  \n",
       "148506     Tom und Maria waren auf derselben Wellenlänge.  \n",
       "152500          Ein Polizist erlitt leichte Verletzungen.  \n",
       "149062           Sind Sie mit den Fußballregeln vertraut?  \n",
       "89981                     Ich kenne andere Leute wie Tom.  \n",
       "150272    In Spanien sind viele junge Menschen arbeitlos.  \n",
       "95284                 Vater hat mir ein Motorrad gekauft.  \n",
       "95336                           Ist Tom etwas zugestoßen?  "
      ]
     },
     "execution_count": 24,
     "metadata": {},
     "output_type": "execute_result"
    }
   ],
   "source": [
    "df.head(10)"
   ]
  },
  {
   "cell_type": "code",
   "execution_count": 22,
   "id": "9daaa8e2",
   "metadata": {},
   "outputs": [
    {
     "data": {
      "text/plain": [
       "{'af': 'afrikaans',\n",
       " 'sq': 'albanian',\n",
       " 'am': 'amharic',\n",
       " 'ar': 'arabic',\n",
       " 'hy': 'armenian',\n",
       " 'az': 'azerbaijani',\n",
       " 'eu': 'basque',\n",
       " 'be': 'belarusian',\n",
       " 'bn': 'bengali',\n",
       " 'bs': 'bosnian',\n",
       " 'bg': 'bulgarian',\n",
       " 'ca': 'catalan',\n",
       " 'ceb': 'cebuano',\n",
       " 'ny': 'chichewa',\n",
       " 'zh-cn': 'chinese (simplified)',\n",
       " 'zh-tw': 'chinese (traditional)',\n",
       " 'co': 'corsican',\n",
       " 'hr': 'croatian',\n",
       " 'cs': 'czech',\n",
       " 'da': 'danish',\n",
       " 'nl': 'dutch',\n",
       " 'en': 'english',\n",
       " 'eo': 'esperanto',\n",
       " 'et': 'estonian',\n",
       " 'tl': 'filipino',\n",
       " 'fi': 'finnish',\n",
       " 'fr': 'french',\n",
       " 'fy': 'frisian',\n",
       " 'gl': 'galician',\n",
       " 'ka': 'georgian',\n",
       " 'de': 'german',\n",
       " 'el': 'greek',\n",
       " 'gu': 'gujarati',\n",
       " 'ht': 'haitian creole',\n",
       " 'ha': 'hausa',\n",
       " 'haw': 'hawaiian',\n",
       " 'iw': 'hebrew',\n",
       " 'hi': 'hindi',\n",
       " 'hmn': 'hmong',\n",
       " 'hu': 'hungarian',\n",
       " 'is': 'icelandic',\n",
       " 'ig': 'igbo',\n",
       " 'id': 'indonesian',\n",
       " 'ga': 'irish',\n",
       " 'it': 'italian',\n",
       " 'ja': 'japanese',\n",
       " 'jw': 'javanese',\n",
       " 'kn': 'kannada',\n",
       " 'kk': 'kazakh',\n",
       " 'km': 'khmer',\n",
       " 'ko': 'korean',\n",
       " 'ku': 'kurdish (kurmanji)',\n",
       " 'ky': 'kyrgyz',\n",
       " 'lo': 'lao',\n",
       " 'la': 'latin',\n",
       " 'lv': 'latvian',\n",
       " 'lt': 'lithuanian',\n",
       " 'lb': 'luxembourgish',\n",
       " 'mk': 'macedonian',\n",
       " 'mg': 'malagasy',\n",
       " 'ms': 'malay',\n",
       " 'ml': 'malayalam',\n",
       " 'mt': 'maltese',\n",
       " 'mi': 'maori',\n",
       " 'mr': 'marathi',\n",
       " 'mn': 'mongolian',\n",
       " 'my': 'myanmar (burmese)',\n",
       " 'ne': 'nepali',\n",
       " 'no': 'norwegian',\n",
       " 'ps': 'pashto',\n",
       " 'fa': 'persian',\n",
       " 'pl': 'polish',\n",
       " 'pt': 'portuguese',\n",
       " 'pa': 'punjabi',\n",
       " 'ro': 'romanian',\n",
       " 'ru': 'russian',\n",
       " 'sm': 'samoan',\n",
       " 'gd': 'scots gaelic',\n",
       " 'sr': 'serbian',\n",
       " 'st': 'sesotho',\n",
       " 'sn': 'shona',\n",
       " 'sd': 'sindhi',\n",
       " 'si': 'sinhala',\n",
       " 'sk': 'slovak',\n",
       " 'sl': 'slovenian',\n",
       " 'so': 'somali',\n",
       " 'es': 'spanish',\n",
       " 'su': 'sundanese',\n",
       " 'sw': 'swahili',\n",
       " 'sv': 'swedish',\n",
       " 'tg': 'tajik',\n",
       " 'ta': 'tamil',\n",
       " 'te': 'telugu',\n",
       " 'th': 'thai',\n",
       " 'tr': 'turkish',\n",
       " 'uk': 'ukrainian',\n",
       " 'ur': 'urdu',\n",
       " 'uz': 'uzbek',\n",
       " 'vi': 'vietnamese',\n",
       " 'cy': 'welsh',\n",
       " 'xh': 'xhosa',\n",
       " 'yi': 'yiddish',\n",
       " 'yo': 'yoruba',\n",
       " 'zu': 'zulu',\n",
       " 'fil': 'Filipino',\n",
       " 'he': 'Hebrew'}"
      ]
     },
     "execution_count": 22,
     "metadata": {},
     "output_type": "execute_result"
    }
   ],
   "source": [
    "googletrans.LANGUAGES"
   ]
  }
 ],
 "metadata": {
  "kernelspec": {
   "display_name": "pandas_venv",
   "language": "python",
   "name": "pandas_venv"
  },
  "language_info": {
   "codemirror_mode": {
    "name": "ipython",
    "version": 3
   },
   "file_extension": ".py",
   "mimetype": "text/x-python",
   "name": "python",
   "nbconvert_exporter": "python",
   "pygments_lexer": "ipython3",
   "version": "3.10.1"
  }
 },
 "nbformat": 4,
 "nbformat_minor": 5
}
