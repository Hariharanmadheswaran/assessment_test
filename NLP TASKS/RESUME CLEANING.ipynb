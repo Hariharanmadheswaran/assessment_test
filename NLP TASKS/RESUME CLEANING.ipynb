{
 "cells": [
  {
   "cell_type": "code",
   "execution_count": 1,
   "id": "b44ef8cc",
   "metadata": {},
   "outputs": [],
   "source": [
    "import PyPDF2\n",
    "import re"
   ]
  },
  {
   "cell_type": "code",
   "execution_count": 11,
   "id": "a19f99ce",
   "metadata": {},
   "outputs": [],
   "source": [
    "def resume_cleaning(resume,hard_skills,soft_skills,show_keyword=False):\n",
    "    file=open(resume,\"rb\")\n",
    "    resume_pdf=PyPDF2.PdfFileReader(file)       #module to read pdf file\n",
    "    pages=resume_pdf.getNumPages()                #lists number of pages\n",
    "    lists=[]\n",
    "    for i in range(pages):\n",
    "        variable=resume_pdf.getPage(i)            \n",
    "        lists.append(variable.extractText())      #extract text from each page and appending in list\n",
    "    file.close()\n",
    "    lists=\" \".join(lists)\n",
    "    lists=\" \".join(lists.split(\"\\n\"))\n",
    "    string=str(lists).lower()                     #lower case whole text\n",
    "    \n",
    "    string=re.sub(\"[^a-z]+\",\" \",string).split()     #removing other than words\n",
    "    string=\" \".join(string)\n",
    "#     print(string)\n",
    "    \n",
    "    total_hard_skills=len(hard_skills)\n",
    "    total_soft_skills=len(soft_skills)\n",
    "    count1,count2=set(),set()\n",
    "    \n",
    "    for i in hard_skills:\n",
    "        \n",
    "        if len(re.findall(i,string))!=0:\n",
    "            for i in re.findall(i,string):\n",
    "                count1.add(i)\n",
    "    for i in soft_skills:\n",
    "       \n",
    "        if len(re.findall(i,string))!=0:\n",
    "            for i in re.findall(i,string):\n",
    "                count2.add(i)\n",
    "    if show_keyword:\n",
    "        print(\"KEY WORDS\")\n",
    "        print(\"--------------------------------------------------------------------\")\n",
    "        print(\"Hardskills------\",list(count1))\n",
    "        print(\"Softskills------\",list(count2))\n",
    "        print(\"--------------------------------------------------------------------\\n\\n\")\n",
    "    print(f\"hardskill ---{len(list(count1))/total_hard_skills}%\")\n",
    "    print(f\"softskill ---{len(list(count2))/total_soft_skills}%\")    \n",
    "#     return string    "
   ]
  },
  {
   "cell_type": "code",
   "execution_count": 12,
   "id": "9d8e490f",
   "metadata": {},
   "outputs": [],
   "source": [
    "soft_skills=['critical\\s*thinking',\n",
    " 'communication',\n",
    " 'research',\n",
    " 'time\\s*management',\n",
    " 'collaboration',\n",
    "\"fast\\s*learner\"]\n"
   ]
  },
  {
   "cell_type": "code",
   "execution_count": 13,
   "id": "4dc60f4c",
   "metadata": {},
   "outputs": [],
   "source": [
    "hard_skills=['data\\s*analysis|visualization|mining|munging',\n",
    "  'statistics',\n",
    "  'quantitative\\s*analysis',\n",
    "  'machine\\s*learning',\n",
    "  'modelling',\n",
    "  'math\\w+',\n",
    "  'probab\\w+',\n",
    "  'debugging',\n",
    "  'programming',\n",
    "    \"numpy\",\"pandas\",\"matplotlib\",\"scikit\\s*|\\-learn\",\"seaborn|sns\"\n",
    "    ,\"nlp\",\"natural lang\\w+\"]"
   ]
  },
  {
   "cell_type": "markdown",
   "id": "f1eeec0a",
   "metadata": {},
   "source": [
    "# WE CAN TUNE THE SOFTSKILLS AND HARDSKILLS"
   ]
  },
  {
   "cell_type": "code",
   "execution_count": 14,
   "id": "d8c0a739",
   "metadata": {},
   "outputs": [
    {
     "name": "stdout",
     "output_type": "stream",
     "text": [
      "KEY WORDS\n",
      "--------------------------------------------------------------------\n",
      "Hardskills------ ['machine learning', 'numpy', 'pandas', 'probability', 'statistics', 'visualization', 'scikit ', 'nlp', 'mining']\n",
      "Softskills------ ['fast learner', 'time management']\n",
      "--------------------------------------------------------------------\n",
      "\n",
      "\n",
      "hardskill ---0.5625%\n",
      "softskill ---0.3333333333333333%\n"
     ]
    }
   ],
   "source": [
    "resume_cleaning(\"C:/Users/Hariharan.M/Downloads/Data-Scientist-Resume.PDF\",hard_skills,soft_skills,show_keyword=True) "
   ]
  },
  {
   "cell_type": "code",
   "execution_count": 15,
   "id": "ebf49674",
   "metadata": {},
   "outputs": [
    {
     "name": "stdout",
     "output_type": "stream",
     "text": [
      "hardskill ---0.5625%\n",
      "softskill ---0.3333333333333333%\n"
     ]
    }
   ],
   "source": [
    "resume_cleaning(\"C:/Users/Hariharan.M/Downloads/Data-Scientist-Resume.PDF\",hard_skills,soft_skills,show_keyword=False) "
   ]
  },
  {
   "cell_type": "markdown",
   "id": "cd1c14b8",
   "metadata": {},
   "source": [
    "drawback:\n",
    "    PyPDF2 is not supporting all pdf files "
   ]
  }
 ],
 "metadata": {
  "kernelspec": {
   "display_name": "Python 3 (ipykernel)",
   "language": "python",
   "name": "python3"
  },
  "language_info": {
   "codemirror_mode": {
    "name": "ipython",
    "version": 3
   },
   "file_extension": ".py",
   "mimetype": "text/x-python",
   "name": "python",
   "nbconvert_exporter": "python",
   "pygments_lexer": "ipython3",
   "version": "3.10.1"
  }
 },
 "nbformat": 4,
 "nbformat_minor": 5
}
