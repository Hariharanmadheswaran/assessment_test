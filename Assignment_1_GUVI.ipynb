{
 "cells": [
  {
   "cell_type": "markdown",
   "id": "48c59a64",
   "metadata": {},
   "source": [
    "# guvi assessment 1"
   ]
  },
  {
   "cell_type": "code",
   "execution_count": null,
   "id": "9e6e7402",
   "metadata": {},
   "outputs": [],
   "source": [
    "# the program takes valid emails and check it is unique(for non_repeating emails)\n",
    "# the program takes valid passwords\n",
    "# in login ,it can retrive the forgotten password once the entered email is already registered"
   ]
  },
  {
   "cell_type": "code",
   "execution_count": 30,
   "id": "f42db5b5",
   "metadata": {},
   "outputs": [],
   "source": [
    "def registration():\n",
    "        mail=checking_unique_mailID()\n",
    "        pass_word=password()\n",
    "        with open(\"./register_file.txt\",mode=\"a\") as register_file:\n",
    "              register_file.write(f\"mail is {mail} and password is {pass_word}\\n\")\n",
    "        print(\"successfully registered\")  "
   ]
  },
  {
   "cell_type": "code",
   "execution_count": 31,
   "id": "29c195fd",
   "metadata": {},
   "outputs": [],
   "source": [
    "def searching(mail,pass_word):\n",
    "    with open(\"./register_file.txt\",mode=\"r\") as register_file:\n",
    "        for i in register_file:\n",
    "            if  mail in i and pass_word in i:\n",
    "                print(\"successfully logined\")\n",
    "                break\n",
    "        else:\n",
    "            print(\"did you for forget password press 'y' or else 'n'\")\n",
    "            user=input(\"press y or n\")\n",
    "            if user==\"y\":\n",
    "                username=input(\"enter ur email for verification : \")\n",
    "                with open(\"./register_file.txt\",mode=\"r\") as register_file:\n",
    "                     for i in register_file:\n",
    "                        if  username in i:\n",
    "                            print(\"your password is : \",i.split(\" \")[6])\n",
    "                            break\n",
    "                     else:\n",
    "                        print(\"no such email\")\n",
    "            else:\n",
    "                print(\"please go to registration as none of data matches ur mail\")\n",
    "                registration()\n",
    "                "
   ]
  },
  {
   "cell_type": "code",
   "execution_count": 32,
   "id": "996ebec6",
   "metadata": {},
   "outputs": [],
   "source": [
    "def password():\n",
    "        pd=input(\"please enter the password   : \")\n",
    "        if all([16>len(pd)>5,[1 for i in pd if i.isdigit()],[1 for i in pd if i.islower()],\\\n",
    "                                   [1 for i in pd if i in [\"!\",\"@\",\"#\",\"$\",\"%\",\"^\",\"&\",\"*\"]]]):\n",
    "            return pd\n",
    "        else:\n",
    "            print(\"your password is in wrong type\")\n",
    "            return password()\n"
   ]
  },
  {
   "cell_type": "code",
   "execution_count": 33,
   "id": "7cd2e0e5",
   "metadata": {},
   "outputs": [],
   "source": [
    "def checking_unique_mailID():\n",
    "    email=input(\"Enter your valid Email_ID  : \")\n",
    "    if all([\"@\" in email,\".\" in email]):\n",
    "        if all([email.index(\"@\")<email.index(\".\"),email.split(\"@\")[0],email.index(\"@\")+1 !=email.index(\".\"),\\\n",
    "                       email.split(\"@\")[1][0] not in [\"!\",\"@\",\"#\",\"$\",\"%\",\"^\",\"&\"]]):\n",
    "            try:\n",
    "                with open(\"./register_file.txt\",mode=\"r\") as register_file: \n",
    "                    for i in register_file:\n",
    "                        if email in i:\n",
    "                            print(\"this username or mailID is already taken\")\n",
    "                            return checking_unique_mailID()\n",
    "                            break\n",
    "                    else:\n",
    "                        return email\n",
    "            except:\n",
    "                return email\n",
    "    else:\n",
    "            print(\"invalid email\")\n",
    "            return checking_unique_mailID()\n",
    "        "
   ]
  },
  {
   "cell_type": "code",
   "execution_count": 34,
   "id": "30a7642a",
   "metadata": {},
   "outputs": [],
   "source": [
    "while True:\n",
    "    print(\"\"\"welcome\n",
    "         For registration : Press : '1'\n",
    "         For login        : Press :'2'\"\"\")\n",
    "    answer=input()\n",
    "    if answer==\"1\":\n",
    "        registration()\n",
    "    elif answer==\"2\":\n",
    "        mail=input(\"Enter your valid Email_ID  : \")\n",
    "        pass_word=input(\"enter your password\")\n",
    "        searching(mail,pass_word)\n",
    "    else:\n",
    "        print(\"worngly entered \")\n",
    "        break"
   ]
  }
 ],
 "metadata": {
  "kernelspec": {
   "display_name": "pandas_venv",
   "language": "python",
   "name": "pandas_venv"
  },
  "language_info": {
   "codemirror_mode": {
    "name": "ipython",
    "version": 3
   },
   "file_extension": ".py",
   "mimetype": "text/x-python",
   "name": "python",
   "nbconvert_exporter": "python",
   "pygments_lexer": "ipython3",
   "version": "3.10.1"
  }
 },
 "nbformat": 4,
 "nbformat_minor": 5
}
