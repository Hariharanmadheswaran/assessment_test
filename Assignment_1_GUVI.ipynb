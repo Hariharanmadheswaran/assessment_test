{
 "cells": [
  {
   "cell_type": "markdown",
   "id": "48c59a64",
   "metadata": {},
   "source": [
    "# guvi assessment 1"
   ]
  },
  {
   "cell_type": "code",
   "execution_count": 29,
   "id": "ee5cf1d6",
   "metadata": {
    "scrolled": true
   },
   "outputs": [
    {
     "name": "stdout",
     "output_type": "stream",
     "text": [
      "welcome\n",
      "         For registration : Press : '1'\n",
      "         For login        : Press :'2'\n",
      "1\n",
      "Enter your valid Email_ID  : mhaddd@gmail.com\n",
      "please enter the password   : Hari@123456\n",
      "successfully registered\n",
      "welcome\n",
      "         For registration : Press : '1'\n",
      "         For login        : Press :'2'\n",
      "7\n",
      "worngly entered \n"
     ]
    }
   ],
   "source": [
    "d={}\n",
    "while True:\n",
    "    print(\"\"\"welcome\n",
    "         For registration : Press : '1'\n",
    "         For login        : Press :'2'\"\"\")\n",
    "\n",
    "    answer=input()\n",
    "    if answer==\"1\":\n",
    "        registration()\n",
    "    elif answer==\"2\":\n",
    "        mail=input(\"Enter your valid Email_ID  : \")\n",
    "        pass_word=input(\"enter your password\")\n",
    "        searching()\n",
    "    else:\n",
    "        print(\"worngly entered \")\n",
    "        break"
   ]
  },
  {
   "cell_type": "code",
   "execution_count": 21,
   "id": "6ed06085",
   "metadata": {},
   "outputs": [],
   "source": [
    "def registration():\n",
    "        mail=checking_unique_mailID()\n",
    "        pass_word=password()\n",
    "        with open(\"G:/jupyter notebook/register_file.txt\",mode=\"a\") as register_file:\n",
    "              register_file.write(f\"mail is {mail} and password is {pass_word}\\n\")\n",
    "        print(\"successfully registered\")        "
   ]
  },
  {
   "cell_type": "code",
   "execution_count": 20,
   "id": "6e25026e",
   "metadata": {},
   "outputs": [],
   "source": [
    "def searching():\n",
    "    search=f\"mail is {mail} and password is {pass_word}\"\n",
    "    with open(\"G:/jupyter notebook/register_file.txt\",mode=\"r\") as register_file:\n",
    "        for i in register_file:\n",
    "            if  i is search:\n",
    "                print(\"successfully logined\")\n",
    "        else:\n",
    "            print(\"did you for forget password press 'y' or else 'n'\")\n",
    "            user=input(\"press y or n\")\n",
    "            if user==\"y\":\n",
    "                username=input(\"enter ur email for verification : \")\n",
    "                with open(\"G:/jupyter notebook/register_file.txt\",mode=\"r\") as register_file:\n",
    "                     for i in register_file:\n",
    "                        if  username in i:\n",
    "                            print(\"your password is : \",i.split(\" \")[6])\n",
    "                     else:\n",
    "                        print(\"no such email\")\n",
    "            else:\n",
    "                print(\"please go to registration as none of data matches ur mail\")\n",
    "                registration()\n",
    "                "
   ]
  },
  {
   "cell_type": "code",
   "execution_count": 30,
   "id": "84ddbdfd",
   "metadata": {},
   "outputs": [],
   "source": [
    "def password():\n",
    "        pd=input(\"please enter the password   : \")\n",
    "        if all([16>len(pd)>5,[1 for i in pd if i.isdigit()],[1 for i in pd if i.islower()],\\\n",
    "                                   [1 for i in pd if i in [\"!\",\"@\",\"#\",\"$\",\"%\",\"^\",\"&\",\"*\"]]]):\n",
    "            return pd\n",
    "        else:\n",
    "            print(\"your password is in wrong type\")\n",
    "            return password()\n",
    "\n",
    "    "
   ]
  },
  {
   "cell_type": "code",
   "execution_count": 27,
   "id": "80b540de",
   "metadata": {},
   "outputs": [],
   "source": [
    "def checking_unique_mailID():\n",
    "    email=input(\"Enter your valid Email_ID  : \")\n",
    "    with open(\"G:/jupyter notebook/register_file.txt\",mode=\"r\") as register_file:\n",
    "        for i in register_file:\n",
    "            if email in i:\n",
    "                print(\"this username or mailID is already taken\")\n",
    "                return checking_unique_mailID()\n",
    "                break\n",
    "        else:\n",
    "            return email\n",
    "        \n",
    "        "
   ]
  },
  {
   "cell_type": "code",
   "execution_count": null,
   "id": "a38579fc",
   "metadata": {},
   "outputs": [],
   "source": []
  }
 ],
 "metadata": {
  "kernelspec": {
   "display_name": "pandas_venv",
   "language": "python",
   "name": "pandas_venv"
  },
  "language_info": {
   "codemirror_mode": {
    "name": "ipython",
    "version": 3
   },
   "file_extension": ".py",
   "mimetype": "text/x-python",
   "name": "python",
   "nbconvert_exporter": "python",
   "pygments_lexer": "ipython3",
   "version": "3.10.1"
  }
 },
 "nbformat": 4,
 "nbformat_minor": 5
}
