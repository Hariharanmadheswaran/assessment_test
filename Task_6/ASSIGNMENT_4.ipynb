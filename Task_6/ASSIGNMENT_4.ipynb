{
 "cells": [
  {
   "cell_type": "code",
   "execution_count": 10,
   "id": "d8050cfb",
   "metadata": {},
   "outputs": [],
   "source": [
    "import pandas as pd\n",
    "from sklearn.linear_model import LinearRegression\n",
    "from sklearn.model_selection import train_test_split\n",
    "import numpy as np\n",
    "from sklearn.preprocessing import MinMaxScaler\n",
    "from sklearn.metrics import r2_score\n",
    "import matplotlib.pyplot as plt "
   ]
  },
  {
   "cell_type": "code",
   "execution_count": 11,
   "id": "94af9e5f",
   "metadata": {},
   "outputs": [
    {
     "data": {
      "text/html": [
       "<div>\n",
       "<style scoped>\n",
       "    .dataframe tbody tr th:only-of-type {\n",
       "        vertical-align: middle;\n",
       "    }\n",
       "\n",
       "    .dataframe tbody tr th {\n",
       "        vertical-align: top;\n",
       "    }\n",
       "\n",
       "    .dataframe thead th {\n",
       "        text-align: right;\n",
       "    }\n",
       "</style>\n",
       "<table border=\"1\" class=\"dataframe\">\n",
       "  <thead>\n",
       "    <tr style=\"text-align: right;\">\n",
       "      <th></th>\n",
       "      <th>ID</th>\n",
       "      <th>CRIM</th>\n",
       "      <th>ZN</th>\n",
       "      <th>INDUS</th>\n",
       "      <th>CHAS</th>\n",
       "      <th>NOX</th>\n",
       "      <th>RM</th>\n",
       "      <th>AGE</th>\n",
       "      <th>DIS</th>\n",
       "      <th>RAD</th>\n",
       "      <th>TAX</th>\n",
       "      <th>PTRATIO</th>\n",
       "      <th>B</th>\n",
       "      <th>LSTAT</th>\n",
       "      <th>MEDV</th>\n",
       "    </tr>\n",
       "  </thead>\n",
       "  <tbody>\n",
       "    <tr>\n",
       "      <th>0</th>\n",
       "      <td>0</td>\n",
       "      <td>0.95577</td>\n",
       "      <td>0.0</td>\n",
       "      <td>8.14</td>\n",
       "      <td>0</td>\n",
       "      <td>0.538</td>\n",
       "      <td>6.047</td>\n",
       "      <td>88.8</td>\n",
       "      <td>4.4534</td>\n",
       "      <td>4</td>\n",
       "      <td>307.0</td>\n",
       "      <td>21.0</td>\n",
       "      <td>306.38</td>\n",
       "      <td>17.28</td>\n",
       "      <td>14.8</td>\n",
       "    </tr>\n",
       "    <tr>\n",
       "      <th>1</th>\n",
       "      <td>1</td>\n",
       "      <td>0.02875</td>\n",
       "      <td>28.0</td>\n",
       "      <td>15.04</td>\n",
       "      <td>0</td>\n",
       "      <td>0.464</td>\n",
       "      <td>6.211</td>\n",
       "      <td>28.9</td>\n",
       "      <td>3.6659</td>\n",
       "      <td>4</td>\n",
       "      <td>270.0</td>\n",
       "      <td>18.2</td>\n",
       "      <td>396.33</td>\n",
       "      <td>6.21</td>\n",
       "      <td>25.0</td>\n",
       "    </tr>\n",
       "    <tr>\n",
       "      <th>2</th>\n",
       "      <td>2</td>\n",
       "      <td>1.22358</td>\n",
       "      <td>0.0</td>\n",
       "      <td>19.58</td>\n",
       "      <td>0</td>\n",
       "      <td>0.605</td>\n",
       "      <td>6.943</td>\n",
       "      <td>97.4</td>\n",
       "      <td>1.8773</td>\n",
       "      <td>5</td>\n",
       "      <td>403.0</td>\n",
       "      <td>14.7</td>\n",
       "      <td>363.43</td>\n",
       "      <td>4.59</td>\n",
       "      <td>41.3</td>\n",
       "    </tr>\n",
       "    <tr>\n",
       "      <th>3</th>\n",
       "      <td>3</td>\n",
       "      <td>5.66637</td>\n",
       "      <td>0.0</td>\n",
       "      <td>18.10</td>\n",
       "      <td>0</td>\n",
       "      <td>0.740</td>\n",
       "      <td>6.219</td>\n",
       "      <td>100.0</td>\n",
       "      <td>2.0048</td>\n",
       "      <td>24</td>\n",
       "      <td>666.0</td>\n",
       "      <td>20.2</td>\n",
       "      <td>395.69</td>\n",
       "      <td>16.59</td>\n",
       "      <td>18.4</td>\n",
       "    </tr>\n",
       "    <tr>\n",
       "      <th>4</th>\n",
       "      <td>4</td>\n",
       "      <td>0.04544</td>\n",
       "      <td>0.0</td>\n",
       "      <td>3.24</td>\n",
       "      <td>0</td>\n",
       "      <td>0.460</td>\n",
       "      <td>6.144</td>\n",
       "      <td>32.2</td>\n",
       "      <td>5.8736</td>\n",
       "      <td>4</td>\n",
       "      <td>430.0</td>\n",
       "      <td>16.9</td>\n",
       "      <td>368.57</td>\n",
       "      <td>9.09</td>\n",
       "      <td>19.8</td>\n",
       "    </tr>\n",
       "    <tr>\n",
       "      <th>...</th>\n",
       "      <td>...</td>\n",
       "      <td>...</td>\n",
       "      <td>...</td>\n",
       "      <td>...</td>\n",
       "      <td>...</td>\n",
       "      <td>...</td>\n",
       "      <td>...</td>\n",
       "      <td>...</td>\n",
       "      <td>...</td>\n",
       "      <td>...</td>\n",
       "      <td>...</td>\n",
       "      <td>...</td>\n",
       "      <td>...</td>\n",
       "      <td>...</td>\n",
       "      <td>...</td>\n",
       "    </tr>\n",
       "    <tr>\n",
       "      <th>395</th>\n",
       "      <td>395</td>\n",
       "      <td>0.03615</td>\n",
       "      <td>80.0</td>\n",
       "      <td>4.95</td>\n",
       "      <td>0</td>\n",
       "      <td>0.411</td>\n",
       "      <td>6.630</td>\n",
       "      <td>23.4</td>\n",
       "      <td>5.1167</td>\n",
       "      <td>4</td>\n",
       "      <td>245.0</td>\n",
       "      <td>19.2</td>\n",
       "      <td>396.90</td>\n",
       "      <td>4.70</td>\n",
       "      <td>27.9</td>\n",
       "    </tr>\n",
       "    <tr>\n",
       "      <th>396</th>\n",
       "      <td>396</td>\n",
       "      <td>0.17505</td>\n",
       "      <td>0.0</td>\n",
       "      <td>5.96</td>\n",
       "      <td>0</td>\n",
       "      <td>0.499</td>\n",
       "      <td>5.966</td>\n",
       "      <td>30.2</td>\n",
       "      <td>3.8473</td>\n",
       "      <td>5</td>\n",
       "      <td>279.0</td>\n",
       "      <td>19.2</td>\n",
       "      <td>393.43</td>\n",
       "      <td>10.13</td>\n",
       "      <td>24.7</td>\n",
       "    </tr>\n",
       "    <tr>\n",
       "      <th>397</th>\n",
       "      <td>397</td>\n",
       "      <td>6.65492</td>\n",
       "      <td>0.0</td>\n",
       "      <td>18.10</td>\n",
       "      <td>0</td>\n",
       "      <td>0.713</td>\n",
       "      <td>6.317</td>\n",
       "      <td>83.0</td>\n",
       "      <td>2.7344</td>\n",
       "      <td>24</td>\n",
       "      <td>666.0</td>\n",
       "      <td>20.2</td>\n",
       "      <td>396.90</td>\n",
       "      <td>13.99</td>\n",
       "      <td>19.5</td>\n",
       "    </tr>\n",
       "    <tr>\n",
       "      <th>398</th>\n",
       "      <td>398</td>\n",
       "      <td>0.13117</td>\n",
       "      <td>0.0</td>\n",
       "      <td>8.56</td>\n",
       "      <td>0</td>\n",
       "      <td>0.520</td>\n",
       "      <td>6.127</td>\n",
       "      <td>85.2</td>\n",
       "      <td>2.1224</td>\n",
       "      <td>5</td>\n",
       "      <td>384.0</td>\n",
       "      <td>20.9</td>\n",
       "      <td>387.69</td>\n",
       "      <td>14.09</td>\n",
       "      <td>20.4</td>\n",
       "    </tr>\n",
       "    <tr>\n",
       "      <th>399</th>\n",
       "      <td>399</td>\n",
       "      <td>0.06466</td>\n",
       "      <td>70.0</td>\n",
       "      <td>2.24</td>\n",
       "      <td>0</td>\n",
       "      <td>0.400</td>\n",
       "      <td>6.345</td>\n",
       "      <td>20.1</td>\n",
       "      <td>7.8278</td>\n",
       "      <td>5</td>\n",
       "      <td>358.0</td>\n",
       "      <td>14.8</td>\n",
       "      <td>368.24</td>\n",
       "      <td>4.97</td>\n",
       "      <td>22.5</td>\n",
       "    </tr>\n",
       "  </tbody>\n",
       "</table>\n",
       "<p>400 rows × 15 columns</p>\n",
       "</div>"
      ],
      "text/plain": [
       "      ID     CRIM    ZN  INDUS  CHAS    NOX     RM    AGE     DIS  RAD    TAX  \\\n",
       "0      0  0.95577   0.0   8.14     0  0.538  6.047   88.8  4.4534    4  307.0   \n",
       "1      1  0.02875  28.0  15.04     0  0.464  6.211   28.9  3.6659    4  270.0   \n",
       "2      2  1.22358   0.0  19.58     0  0.605  6.943   97.4  1.8773    5  403.0   \n",
       "3      3  5.66637   0.0  18.10     0  0.740  6.219  100.0  2.0048   24  666.0   \n",
       "4      4  0.04544   0.0   3.24     0  0.460  6.144   32.2  5.8736    4  430.0   \n",
       "..   ...      ...   ...    ...   ...    ...    ...    ...     ...  ...    ...   \n",
       "395  395  0.03615  80.0   4.95     0  0.411  6.630   23.4  5.1167    4  245.0   \n",
       "396  396  0.17505   0.0   5.96     0  0.499  5.966   30.2  3.8473    5  279.0   \n",
       "397  397  6.65492   0.0  18.10     0  0.713  6.317   83.0  2.7344   24  666.0   \n",
       "398  398  0.13117   0.0   8.56     0  0.520  6.127   85.2  2.1224    5  384.0   \n",
       "399  399  0.06466  70.0   2.24     0  0.400  6.345   20.1  7.8278    5  358.0   \n",
       "\n",
       "     PTRATIO       B  LSTAT  MEDV  \n",
       "0       21.0  306.38  17.28  14.8  \n",
       "1       18.2  396.33   6.21  25.0  \n",
       "2       14.7  363.43   4.59  41.3  \n",
       "3       20.2  395.69  16.59  18.4  \n",
       "4       16.9  368.57   9.09  19.8  \n",
       "..       ...     ...    ...   ...  \n",
       "395     19.2  396.90   4.70  27.9  \n",
       "396     19.2  393.43  10.13  24.7  \n",
       "397     20.2  396.90  13.99  19.5  \n",
       "398     20.9  387.69  14.09  20.4  \n",
       "399     14.8  368.24   4.97  22.5  \n",
       "\n",
       "[400 rows x 15 columns]"
      ]
     },
     "execution_count": 11,
     "metadata": {},
     "output_type": "execute_result"
    }
   ],
   "source": [
    "pd.read_csv(\"G:\\jupyter notebook\\GUVI pandas\\scratch/train.csv\")\n"
   ]
  },
  {
   "cell_type": "code",
   "execution_count": 12,
   "id": "3992a778",
   "metadata": {},
   "outputs": [
    {
     "data": {
      "text/plain": [
       "(400, 13)"
      ]
     },
     "execution_count": 12,
     "metadata": {},
     "output_type": "execute_result"
    }
   ],
   "source": [
    "x_train=np.loadtxt(\"G:\\jupyter notebook\\GUVI pandas\\scratch/train.csv\",skiprows=1,delimiter=\",\",\n",
    "                   usecols=(1,2,3,4,5,6,7,8,9,10,11,12,13))\n",
    "x_train.shape"
   ]
  },
  {
   "cell_type": "code",
   "execution_count": 13,
   "id": "64c63bc8",
   "metadata": {},
   "outputs": [],
   "source": [
    "y_train=np.loadtxt(\"G:\\jupyter notebook\\GUVI pandas\\scratch/train.csv\",skiprows=1,delimiter=\",\",\n",
    "                   usecols=(14,))"
   ]
  },
  {
   "cell_type": "code",
   "execution_count": 14,
   "id": "093f7ee5",
   "metadata": {},
   "outputs": [
    {
     "data": {
      "text/plain": [
       "(105, 13)"
      ]
     },
     "execution_count": 14,
     "metadata": {},
     "output_type": "execute_result"
    }
   ],
   "source": [
    "x_test=np.loadtxt(\"G:\\jupyter notebook\\GUVI pandas\\scratch/test.csv\",skiprows=1,delimiter=\",\",usecols=(1,2,3,4,5,6,7,8,9,10,11,12,13))\n",
    "x_test.shape"
   ]
  },
  {
   "cell_type": "markdown",
   "id": "028a6879",
   "metadata": {},
   "source": [
    "# scalinf the features"
   ]
  },
  {
   "cell_type": "code",
   "execution_count": 15,
   "id": "354ad1d3",
   "metadata": {},
   "outputs": [],
   "source": [
    "scaler=MinMaxScaler()\n",
    "scaler.fit(x_train)\n",
    "x_train_scaled=scaler.transform(x_train)\n",
    "x_test_scaled=scaler.transform(x_test)"
   ]
  },
  {
   "cell_type": "markdown",
   "id": "10e1bbad",
   "metadata": {},
   "source": [
    "# adding constant"
   ]
  },
  {
   "cell_type": "code",
   "execution_count": 16,
   "id": "788e0a45",
   "metadata": {},
   "outputs": [],
   "source": [
    "x_train_scaled=np.hstack((x_train_scaled,np.ones((400,1))))\n",
    "x_test_scaled=np.hstack((x_test_scaled,np.ones((105,1))))"
   ]
  },
  {
   "cell_type": "markdown",
   "id": "89d3c7d7",
   "metadata": {},
   "source": [
    "# tranform dependent feature"
   ]
  },
  {
   "cell_type": "code",
   "execution_count": 17,
   "id": "2f20d7da",
   "metadata": {},
   "outputs": [],
   "source": [
    "y_train_scaled=np.log(y_train)"
   ]
  },
  {
   "cell_type": "code",
   "execution_count": null,
   "id": "481c4fcd",
   "metadata": {},
   "outputs": [],
   "source": []
  },
  {
   "cell_type": "markdown",
   "id": "0f68adcd",
   "metadata": {},
   "source": [
    "# Defining our own model taking lambda , p-norm , learning rate as inputs"
   ]
  },
  {
   "cell_type": "code",
   "execution_count": 18,
   "id": "e03de619",
   "metadata": {},
   "outputs": [],
   "source": [
    "def linear_Regression(x_train,y_train,lamda=0,p_norm=1,learning_rate=0.001,summary=False):\n",
    "    if summary:\n",
    "        print(\"-----------------------------------------------------------------------------------------------------------------\")\n",
    "        print(f\"The learning rate is set ----------------------------{learning_rate}\")\n",
    "        print(\"If not set lamda ,default is set---------------------0\")\n",
    "    e=1000000\n",
    "    variables=x_train\n",
    "    variables=np.transpose(variables)\n",
    "    target=y_train\n",
    "    \n",
    "    parameters=np.zeros(variables.shape[0])\n",
    "    for i in range(20000):\n",
    "        y_predict=np.dot(parameters,variables)\n",
    "        ans=target-y_predict\n",
    "    #     derivative=variables*ans\n",
    "    #     parameters=np.diag(np.multiply(parameters,np.eye(3))+0.01*derivative)\n",
    "        parameters=parameters+learning_rate*(np.sum(variables*ans,axis=1)/variables.shape[0]) + p_norm*lamda*np.power(abs(parameters),p_norm-1)\n",
    "        \n",
    "        keeper=parameters\n",
    "        \n",
    "        mse=1/variables.shape[0]*np.sum((target-y_predict)**2)+lamda*np.sum(np.power(abs(parameters),p_norm))\n",
    "        if mse>e:\n",
    "            if summary:\n",
    "                print(\"The number of iteration it to converge is-----------\",i+1) \n",
    "                print(\"The cost functio error is---------------------------\",round(e,4))\n",
    "                print(\"\\n\\n\")\n",
    "                print(\"The function returns the coeff and constant\")\n",
    "            return keeper\n",
    "        e=mse\n",
    "    if summary:\n",
    "        print(\"The number of iteration it to converge is-----------\",i+1)   \n",
    "        print(\"The cost functio error is---------------------------\",round(mse,4))\n",
    "        print(\"This function returns the coeff and constant\")\n",
    "        print(\"-----------------------------------------------------------------------------------------------------------------\")\n",
    "\n",
    "    return parameters"
   ]
  },
  {
   "cell_type": "code",
   "execution_count": 19,
   "id": "0220bc2f",
   "metadata": {},
   "outputs": [],
   "source": [
    "def score(x_train,y_train,linear_eqn):\n",
    "    y_predict=np.dot(x_train,linear_eqn)\n",
    "    return r2_score(y_train,y_predict)\n",
    "\n",
    "\n",
    "def prediction(x_test):\n",
    "    return np.exp(np.dot(x_test,linear_eqn))  #we are making antilog to get our y\n",
    "\n"
   ]
  },
  {
   "cell_type": "code",
   "execution_count": 20,
   "id": "8c401582",
   "metadata": {},
   "outputs": [
    {
     "name": "stdout",
     "output_type": "stream",
     "text": [
      "-----------------------------------------------------------------------------------------------------------------\n",
      "The learning rate is set ----------------------------0.001\n",
      "If not set lamda ,default is set---------------------0\n",
      "The number of iteration it to converge is----------- 20000\n",
      "The cost functio error is--------------------------- 0.9934\n",
      "This function returns the coeff and constant\n",
      "-----------------------------------------------------------------------------------------------------------------\n"
     ]
    }
   ],
   "source": [
    "# Getting coefficinets from our model\n",
    "linear_eqn=linear_Regression(x_train_scaled,y_train_scaled,lamda=0,summary=True)"
   ]
  },
  {
   "cell_type": "code",
   "execution_count": 21,
   "id": "04f4ead0",
   "metadata": {},
   "outputs": [
    {
     "name": "stdout",
     "output_type": "stream",
     "text": [
      "The score of our model is : 0.7927973282198923\n"
     ]
    }
   ],
   "source": [
    "print(\"The score of our model is :\",score(x_train_scaled,y_train_scaled,linear_eqn))"
   ]
  },
  {
   "cell_type": "markdown",
   "id": "0dddcf10",
   "metadata": {},
   "source": [
    "# Exporting the csv file for test csv"
   ]
  },
  {
   "cell_type": "code",
   "execution_count": 22,
   "id": "36488451",
   "metadata": {},
   "outputs": [],
   "source": [
    "y_predict=prediction(x_test_scaled)  #getting y_prediction for test case"
   ]
  },
  {
   "cell_type": "code",
   "execution_count": 23,
   "id": "6153f06e",
   "metadata": {},
   "outputs": [],
   "source": [
    "x_test_IDS=np.loadtxt(\"G:\\jupyter notebook\\GUVI pandas\\scratch/test.csv\",skiprows=1,delimiter=\",\",usecols=(0,))\n",
    "\n",
    "\n",
    "final_csv=pd.DataFrame({\"ID\":x_test_IDS,\"OUTPUT\":y_predict})"
   ]
  },
  {
   "cell_type": "code",
   "execution_count": 24,
   "id": "4f786883",
   "metadata": {},
   "outputs": [],
   "source": [
    "final_csv.to_csv(\"G:\\jupyter notebook\\GUVI pandas\\scratch/Output\",index=False)"
   ]
  },
  {
   "cell_type": "markdown",
   "id": "ac4b25b0",
   "metadata": {},
   "source": [
    "# For different norms p1=1.75, p2=1.5, p3=1.3 and for diff lambda the error percentage are "
   ]
  },
  {
   "cell_type": "code",
   "execution_count": 25,
   "id": "d4e40f2e",
   "metadata": {
    "scrolled": true
   },
   "outputs": [],
   "source": [
    "diff_lamdas=[1e-06, 1e-05, 0.0001, 0.001, 0.01]\n",
    "error_percentage=[]\n",
    "for i in [1.3,1.5,1.75]:\n",
    "    inter=[]\n",
    "    for j in diff_lamdas:\n",
    "        linear_eqn =linear_Regression(x_train_scaled,y_train_scaled,lamda=j,p_norm=i,learning_rate=0.01)\n",
    "        inter.append(1-score(x_train_scaled,y_train_scaled,linear_eqn))  # error= 1- score\n",
    "    error_percentage.append(inter)\n",
    "    "
   ]
  },
  {
   "cell_type": "code",
   "execution_count": 26,
   "id": "1fc5b321",
   "metadata": {},
   "outputs": [
    {
     "data": {
      "image/png": "[encoded data removed]",
      "text/plain": [
       "<Figure size 432x288 with 1 Axes>"
      ]
     },
     "metadata": {
      "needs_background": "light"
     },
     "output_type": "display_data"
    }
   ],
   "source": [
    "plt.plot([\"1e-06\", \"1e-05\", \"0.0001\", \"0.001\", \"0.01\"],error_percentage[0],color=\"r\",label=\"p-norm--1.3\")\n",
    "plt.plot([\"1e-06\", \"1e-05\", \"0.0001\", \"0.001\", \"0.01\"],error_percentage[1],color=\"b\",label=\"p-norm--1.5\")\n",
    "plt.plot([\"1e-06\", \"1e-05\", \"0.0001\", \"0.001\", \"0.01\"],error_percentage[2],color=\"g\",label=\"p-norm--1.75\")\n",
    "plt.axhline(y=1,label=\"100 percent error\")\n",
    "plt.legend(loc=\"upper left\")\n",
    "plt.xlabel(\"diff lambda\")\n",
    "plt.ylabel(\"errors of models\")\n",
    "plt.show()"
   ]
  },
  {
   "cell_type": "markdown",
   "id": "a3cc0a95",
   "metadata": {},
   "source": [
    "# Fixing p-norm==2 and for different lambda  the scores are"
   ]
  },
  {
   "cell_type": "code",
   "execution_count": 27,
   "id": "b329b558",
   "metadata": {},
   "outputs": [
    {
     "data": {
      "image/png": "[encoded data removed]",
      "text/plain": [
       "<Figure size 432x288 with 1 Axes>"
      ]
     },
     "metadata": {
      "needs_background": "light"
     },
     "output_type": "display_data"
    }
   ],
   "source": [
    "diff_lamdas=[0,1e-09,1e-06, 1e-05, 0.0001, 0.001, 0.01,0.1]\n",
    "error_percentage=[]\n",
    "for j in diff_lamdas:\n",
    "    linear_eqn =linear_Regression(x_train_scaled,y_train,lamda=j,p_norm=2,learning_rate=0.01)\n",
    "    error_percentage.append(1-score(x_train_scaled,y_train,linear_eqn)) #error = 1-score\n",
    "\n",
    "plt.plot([\"0\",\"1e-09\",\"1e-06\", \"1e-05\", \"0.0001\", \"0.001\", \"0.01\"],error_percentage[:-1],color=\"g\",label=\"p-norm =2\",marker=\"o\")\n",
    "plt.legend(loc=\"upper left\")\n",
    "plt.xlabel(\"diff lambda\")\n",
    "plt.ylabel(\"errors of models\")\n",
    "plt.title(\"Ridge regression\")\n",
    "plt.axhline(y=1)\n",
    "plt.show()"
   ]
  },
  {
   "cell_type": "markdown",
   "id": "5e7ac018",
   "metadata": {},
   "source": [
    "# closed form method"
   ]
  },
  {
   "cell_type": "markdown",
   "id": "3e514f8c",
   "metadata": {},
   "source": [
    "#  β=(XTX)−1XTy ."
   ]
  },
  {
   "cell_type": "code",
   "execution_count": 28,
   "id": "c28d639d",
   "metadata": {},
   "outputs": [],
   "source": [
    "Xt_X_inverse=np.linalg.inv(np.dot(np.transpose(x_train_scaled),x_train_scaled))"
   ]
  },
  {
   "cell_type": "code",
   "execution_count": 29,
   "id": "c334b917",
   "metadata": {},
   "outputs": [],
   "source": [
    "Xt_X_inverse_Xt=np.dot(Xt_X_inverse,np.transpose(x_train_scaled))"
   ]
  },
  {
   "cell_type": "code",
   "execution_count": 30,
   "id": "facfcd98",
   "metadata": {
    "scrolled": true
   },
   "outputs": [],
   "source": [
    "coefficients=np.dot(Xt_X_inverse_Xt,y_train_scaled.reshape(x_train_scaled.shape[0],1)).reshape(-1,)"
   ]
  },
  {
   "cell_type": "code",
   "execution_count": 31,
   "id": "b6a4f81b",
   "metadata": {},
   "outputs": [
    {
     "data": {
      "text/plain": [
       "((14,), (400, 14))"
      ]
     },
     "execution_count": 31,
     "metadata": {},
     "output_type": "execute_result"
    }
   ],
   "source": [
    "coefficients.shape,x_train_scaled.shape"
   ]
  },
  {
   "cell_type": "code",
   "execution_count": 32,
   "id": "eeec237e",
   "metadata": {},
   "outputs": [
    {
     "name": "stdout",
     "output_type": "stream",
     "text": [
      "The score of the closed form is  0.7943142590047986\n"
     ]
    }
   ],
   "source": [
    "y_pred=np.dot(x_train_scaled,coefficients)\n",
    "print(\"The score of the closed form is \",r2_score(y_train_scaled,y_pred))"
   ]
  },
  {
   "cell_type": "code",
   "execution_count": null,
   "id": "63f4e2fe",
   "metadata": {},
   "outputs": [],
   "source": []
  },
  {
   "cell_type": "code",
   "execution_count": null,
   "id": "9e5a3b02",
   "metadata": {},
   "outputs": [],
   "source": []
  },
  {
   "cell_type": "code",
   "execution_count": null,
   "id": "9679c8a0",
   "metadata": {},
   "outputs": [],
   "source": []
  },
  {
   "cell_type": "code",
   "execution_count": null,
   "id": "c7ff9673",
   "metadata": {},
   "outputs": [],
   "source": []
  },
  {
   "cell_type": "code",
   "execution_count": null,
   "id": "ac9c619d",
   "metadata": {},
   "outputs": [],
   "source": []
  }
 ],
 "metadata": {
  "kernelspec": {
   "display_name": "pandas_venv",
   "language": "python",
   "name": "pandas_venv"
  },
  "language_info": {
   "codemirror_mode": {
    "name": "ipython",
    "version": 3
   },
   "file_extension": ".py",
   "mimetype": "text/x-python",
   "name": "python",
   "nbconvert_exporter": "python",
   "pygments_lexer": "ipython3",
   "version": "3.10.1"
  }
 },
 "nbformat": 4,
 "nbformat_minor": 5
}
