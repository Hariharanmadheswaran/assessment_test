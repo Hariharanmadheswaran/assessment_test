{
 "cells": [
  {
   "cell_type": "code",
   "execution_count": 48,
   "id": "d9ab41e9",
   "metadata": {},
   "outputs": [],
   "source": [
    "import pymongo"
   ]
  },
  {
   "cell_type": "code",
   "execution_count": 49,
   "id": "aa858a14",
   "metadata": {},
   "outputs": [],
   "source": [
    "client=pymongo.MongoClient(\"localhost:27017\")"
   ]
  },
  {
   "cell_type": "code",
   "execution_count": 50,
   "id": "921cdc94",
   "metadata": {},
   "outputs": [],
   "source": [
    "db=client[\"Telephone_directory\"]"
   ]
  },
  {
   "cell_type": "code",
   "execution_count": 51,
   "id": "c7cd18dd",
   "metadata": {
    "scrolled": true
   },
   "outputs": [],
   "source": [
    "# creating new database\n",
    "mycollection=db[\"person's_details\"]"
   ]
  },
  {
   "cell_type": "code",
   "execution_count": 52,
   "id": "3334092a",
   "metadata": {
    "scrolled": true
   },
   "outputs": [
    {
     "data": {
      "text/plain": [
       "<pymongo.results.InsertManyResult at 0x2369f093c40>"
      ]
     },
     "execution_count": 52,
     "metadata": {},
     "output_type": "execute_result"
    }
   ],
   "source": [
    "# inserting documents to the collection\n",
    "datalist=[{\"name\":\"hariharan\",\"phone\":1234567890,\"place\":\"chennai\"},{\"name\":\"nikitha\",\"phone\":1234512345,\"place\":\"madurai\"},\\\n",
    "         {\"name\":\"srinivasan\",\"phone\":7878978789,\"place\":\"erode\"},{\"name\":\"vicknesh\",\"phone\":2233445566,\"place\":\"theni\"},\\\n",
    "          {\"name\":\"rajan\",\"phone\":142644335,\"place\":\"kanyakumari\"}]\n",
    "mycollection.insert_many(datalist)"
   ]
  },
  {
   "cell_type": "code",
   "execution_count": 53,
   "id": "5fd5dc8e",
   "metadata": {
    "scrolled": true
   },
   "outputs": [
    {
     "name": "stdout",
     "output_type": "stream",
     "text": [
      "{'_id': ObjectId('621dbcf9aab7abe691a76157'), 'name': 'hariharan', 'phone': 1234567890, 'place': 'chennai'}\n",
      "{'_id': ObjectId('621dbcf9aab7abe691a76158'), 'name': 'nikitha', 'phone': 1234512345, 'place': 'madurai'}\n",
      "{'_id': ObjectId('621dbcf9aab7abe691a76159'), 'name': 'srinivasan', 'phone': 7878978789, 'place': 'erode'}\n",
      "{'_id': ObjectId('621dbcf9aab7abe691a7615a'), 'name': 'vicknesh', 'phone': 2233445566, 'place': 'theni'}\n",
      "{'_id': ObjectId('621dbcf9aab7abe691a7615b'), 'name': 'rajan', 'phone': 142644335, 'place': 'kanyakumari'}\n"
     ]
    }
   ],
   "source": [
    "# retriving the inserted documents\n",
    "for i in mycollection.find():\n",
    "    print(i)"
   ]
  },
  {
   "cell_type": "code",
   "execution_count": 54,
   "id": "fc12a800",
   "metadata": {},
   "outputs": [
    {
     "name": "stdout",
     "output_type": "stream",
     "text": [
      "{'_id': ObjectId('621dbcf9aab7abe691a76157'), 'name': 'lavanya', 'phone': 1234567890, 'place': 'chennai'}\n",
      "{'_id': ObjectId('621dbcf9aab7abe691a76158'), 'name': 'nikitha', 'phone': 1234512345, 'place': 'madurai'}\n",
      "{'_id': ObjectId('621dbcf9aab7abe691a76159'), 'name': 'srinivasan', 'phone': 7878978789, 'place': 'erode'}\n",
      "{'_id': ObjectId('621dbcf9aab7abe691a7615a'), 'name': 'vicknesh', 'phone': 2233445566, 'place': 'theni'}\n",
      "{'_id': ObjectId('621dbcf9aab7abe691a7615b'), 'name': 'rajan', 'phone': 142644335, 'place': 'kanyakumari'}\n"
     ]
    }
   ],
   "source": [
    "# updating the documents in collection\n",
    "mycollection.update_one({\"name\":\"hariharan\"},{\"$set\":{\"name\":\"lavanya\"}})\n",
    "for i in mycollection.find():\n",
    "    print(i)"
   ]
  },
  {
   "cell_type": "code",
   "execution_count": 55,
   "id": "e19873c6",
   "metadata": {},
   "outputs": [
    {
     "name": "stdout",
     "output_type": "stream",
     "text": [
      "{'_id': ObjectId('621dbcf9aab7abe691a76157'), 'name': 'lavanya', 'phone': 1234567890, 'place': 'chennai'}\n",
      "{'_id': ObjectId('621dbcf9aab7abe691a76158'), 'name': 'nikitha', 'phone': 1234512345, 'place': 'madurai'}\n",
      "{'_id': ObjectId('621dbcf9aab7abe691a76159'), 'name': 'srinivasan', 'phone': 7878978789, 'place': 'erode'}\n",
      "{'_id': ObjectId('621dbcf9aab7abe691a7615a'), 'name': 'vicknesh', 'phone': 2233445566, 'place': 'theni'}\n"
     ]
    }
   ],
   "source": [
    "# deleting a document in the collection\n",
    "mycollection.delete_one({\"name\":\"rajan\"})\n",
    "for i in mycollection.find():\n",
    "    print(i)"
   ]
  },
  {
   "cell_type": "code",
   "execution_count": null,
   "id": "9dbad27d",
   "metadata": {},
   "outputs": [],
   "source": []
  }
 ],
 "metadata": {
  "kernelspec": {
   "display_name": "pandas_venv",
   "language": "python",
   "name": "pandas_venv"
  },
  "language_info": {
   "codemirror_mode": {
    "name": "ipython",
    "version": 3
   },
   "file_extension": ".py",
   "mimetype": "text/x-python",
   "name": "python",
   "nbconvert_exporter": "python",
   "pygments_lexer": "ipython3",
   "version": "3.10.1"
  }
 },
 "nbformat": 4,
 "nbformat_minor": 5
}
