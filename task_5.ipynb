{
 "cells": [
  {
   "cell_type": "code",
   "execution_count": 1,
   "id": "a3ad78e8",
   "metadata": {},
   "outputs": [],
   "source": [
    "# importing library\n",
    "import pandas as pd\n",
    "import seaborn as sns\n",
    "import matplotlib.pyplot as plt\n",
    "from sklearn.preprocessing import StandardScaler\n",
    "from sklearn.model_selection import train_test_split\n",
    "from sklearn.linear_model import LogisticRegression\n",
    "from sklearn.model_selection import cross_val_score"
   ]
  },
  {
   "cell_type": "code",
   "execution_count": 2,
   "id": "a52d6140",
   "metadata": {
    "scrolled": true
   },
   "outputs": [
    {
     "data": {
      "text/html": [
       "<div>\n",
       "<style scoped>\n",
       "    .dataframe tbody tr th:only-of-type {\n",
       "        vertical-align: middle;\n",
       "    }\n",
       "\n",
       "    .dataframe tbody tr th {\n",
       "        vertical-align: top;\n",
       "    }\n",
       "\n",
       "    .dataframe thead th {\n",
       "        text-align: right;\n",
       "    }\n",
       "</style>\n",
       "<table border=\"1\" class=\"dataframe\">\n",
       "  <thead>\n",
       "    <tr style=\"text-align: right;\">\n",
       "      <th></th>\n",
       "      <th>time_stamp</th>\n",
       "      <th>user_id</th>\n",
       "      <th>visited</th>\n",
       "    </tr>\n",
       "  </thead>\n",
       "  <tbody>\n",
       "    <tr>\n",
       "      <th>0</th>\n",
       "      <td>2014-04-22 03:53:30</td>\n",
       "      <td>1</td>\n",
       "      <td>1</td>\n",
       "    </tr>\n",
       "    <tr>\n",
       "      <th>1</th>\n",
       "      <td>2013-11-15 03:45:04</td>\n",
       "      <td>2</td>\n",
       "      <td>1</td>\n",
       "    </tr>\n",
       "    <tr>\n",
       "      <th>2</th>\n",
       "      <td>2013-11-29 03:45:04</td>\n",
       "      <td>2</td>\n",
       "      <td>1</td>\n",
       "    </tr>\n",
       "    <tr>\n",
       "      <th>3</th>\n",
       "      <td>2013-12-09 03:45:04</td>\n",
       "      <td>2</td>\n",
       "      <td>1</td>\n",
       "    </tr>\n",
       "    <tr>\n",
       "      <th>4</th>\n",
       "      <td>2013-12-25 03:45:04</td>\n",
       "      <td>2</td>\n",
       "      <td>1</td>\n",
       "    </tr>\n",
       "  </tbody>\n",
       "</table>\n",
       "</div>"
      ],
      "text/plain": [
       "            time_stamp  user_id  visited\n",
       "0  2014-04-22 03:53:30        1        1\n",
       "1  2013-11-15 03:45:04        2        1\n",
       "2  2013-11-29 03:45:04        2        1\n",
       "3  2013-12-09 03:45:04        2        1\n",
       "4  2013-12-25 03:45:04        2        1"
      ]
     },
     "execution_count": 2,
     "metadata": {},
     "output_type": "execute_result"
    }
   ],
   "source": [
    "df1=pd.read_csv(\"G:/csv_files/takehome_user_engagement.csv\",date_parser=True)\n",
    "df1.head(5)"
   ]
  },
  {
   "cell_type": "code",
   "execution_count": 3,
   "id": "c21c5ea7",
   "metadata": {},
   "outputs": [
    {
     "data": {
      "text/plain": [
       "time_stamp    0\n",
       "user_id       0\n",
       "visited       0\n",
       "dtype: int64"
      ]
     },
     "execution_count": 3,
     "metadata": {},
     "output_type": "execute_result"
    }
   ],
   "source": [
    "# there is no missing values\n",
    "df1.isna().sum()"
   ]
  },
  {
   "cell_type": "code",
   "execution_count": 4,
   "id": "e0f66e0b",
   "metadata": {},
   "outputs": [
    {
     "name": "stdout",
     "output_type": "stream",
     "text": [
      "<class 'pandas.core.frame.DataFrame'>\n",
      "RangeIndex: 207917 entries, 0 to 207916\n",
      "Data columns (total 3 columns):\n",
      " #   Column      Non-Null Count   Dtype \n",
      "---  ------      --------------   ----- \n",
      " 0   time_stamp  207917 non-null  object\n",
      " 1   user_id     207917 non-null  int64 \n",
      " 2   visited     207917 non-null  int64 \n",
      "dtypes: int64(2), object(1)\n",
      "memory usage: 4.8+ MB\n"
     ]
    }
   ],
   "source": [
    "# the time_stamp column is not in datetime format\n",
    "df1.info()"
   ]
  },
  {
   "cell_type": "code",
   "execution_count": 5,
   "id": "7cd96fa8",
   "metadata": {},
   "outputs": [],
   "source": [
    "df1[\"time_stamp\"]=pd.to_datetime(df1.time_stamp)"
   ]
  },
  {
   "cell_type": "code",
   "execution_count": 6,
   "id": "988bd2a4",
   "metadata": {},
   "outputs": [
    {
     "name": "stdout",
     "output_type": "stream",
     "text": [
      "<class 'pandas.core.frame.DataFrame'>\n",
      "RangeIndex: 207917 entries, 0 to 207916\n",
      "Data columns (total 3 columns):\n",
      " #   Column      Non-Null Count   Dtype         \n",
      "---  ------      --------------   -----         \n",
      " 0   time_stamp  207917 non-null  datetime64[ns]\n",
      " 1   user_id     207917 non-null  int64         \n",
      " 2   visited     207917 non-null  int64         \n",
      "dtypes: datetime64[ns](1), int64(2)\n",
      "memory usage: 4.8 MB\n"
     ]
    }
   ],
   "source": [
    "df1.info()"
   ]
  },
  {
   "cell_type": "code",
   "execution_count": 7,
   "id": "9aabd2f8",
   "metadata": {},
   "outputs": [],
   "source": [
    "# the entries are containig single day logged in members so grouping them to 1w to see the count of visited\n",
    "df1=df1.groupby([pd.Grouper(key=\"time_stamp\", freq=\"1W\"),\"user_id\"]).agg(\"count\")"
   ]
  },
  {
   "cell_type": "code",
   "execution_count": 8,
   "id": "2c509f7b",
   "metadata": {},
   "outputs": [
    {
     "data": {
      "text/html": [
       "<div>\n",
       "<style scoped>\n",
       "    .dataframe tbody tr th:only-of-type {\n",
       "        vertical-align: middle;\n",
       "    }\n",
       "\n",
       "    .dataframe tbody tr th {\n",
       "        vertical-align: top;\n",
       "    }\n",
       "\n",
       "    .dataframe thead th {\n",
       "        text-align: right;\n",
       "    }\n",
       "</style>\n",
       "<table border=\"1\" class=\"dataframe\">\n",
       "  <thead>\n",
       "    <tr style=\"text-align: right;\">\n",
       "      <th></th>\n",
       "      <th></th>\n",
       "      <th>visited</th>\n",
       "    </tr>\n",
       "    <tr>\n",
       "      <th>time_stamp</th>\n",
       "      <th>user_id</th>\n",
       "      <th></th>\n",
       "    </tr>\n",
       "  </thead>\n",
       "  <tbody>\n",
       "    <tr>\n",
       "      <th rowspan=\"5\" valign=\"top\">2012-06-03</th>\n",
       "      <th>563</th>\n",
       "      <td>1</td>\n",
       "    </tr>\n",
       "    <tr>\n",
       "      <th>1693</th>\n",
       "      <td>1</td>\n",
       "    </tr>\n",
       "    <tr>\n",
       "      <th>1995</th>\n",
       "      <td>1</td>\n",
       "    </tr>\n",
       "    <tr>\n",
       "      <th>2120</th>\n",
       "      <td>1</td>\n",
       "    </tr>\n",
       "    <tr>\n",
       "      <th>2136</th>\n",
       "      <td>1</td>\n",
       "    </tr>\n",
       "  </tbody>\n",
       "</table>\n",
       "</div>"
      ],
      "text/plain": [
       "                    visited\n",
       "time_stamp user_id         \n",
       "2012-06-03 563            1\n",
       "           1693           1\n",
       "           1995           1\n",
       "           2120           1\n",
       "           2136           1"
      ]
     },
     "execution_count": 8,
     "metadata": {},
     "output_type": "execute_result"
    }
   ],
   "source": [
    "df1.head(5)"
   ]
  },
  {
   "cell_type": "markdown",
   "id": "aa5e75de",
   "metadata": {},
   "source": [
    "# Defining an \"adopted user\" as a user who has logged into the product on three separate days in at least one sevenday period"
   ]
  },
  {
   "cell_type": "code",
   "execution_count": 9,
   "id": "a2f5cab6",
   "metadata": {},
   "outputs": [],
   "source": [
    "df1=df1[df1[\"visited\"]>2]"
   ]
  },
  {
   "cell_type": "code",
   "execution_count": 10,
   "id": "75aebc32",
   "metadata": {
    "scrolled": true
   },
   "outputs": [
    {
     "data": {
      "text/html": [
       "<div>\n",
       "<style scoped>\n",
       "    .dataframe tbody tr th:only-of-type {\n",
       "        vertical-align: middle;\n",
       "    }\n",
       "\n",
       "    .dataframe tbody tr th {\n",
       "        vertical-align: top;\n",
       "    }\n",
       "\n",
       "    .dataframe thead th {\n",
       "        text-align: right;\n",
       "    }\n",
       "</style>\n",
       "<table border=\"1\" class=\"dataframe\">\n",
       "  <thead>\n",
       "    <tr style=\"text-align: right;\">\n",
       "      <th></th>\n",
       "      <th></th>\n",
       "      <th>visited</th>\n",
       "    </tr>\n",
       "    <tr>\n",
       "      <th>time_stamp</th>\n",
       "      <th>user_id</th>\n",
       "      <th></th>\n",
       "    </tr>\n",
       "  </thead>\n",
       "  <tbody>\n",
       "    <tr>\n",
       "      <th>2012-06-10</th>\n",
       "      <th>1693</th>\n",
       "      <td>3</td>\n",
       "    </tr>\n",
       "    <tr>\n",
       "      <th rowspan=\"2\" valign=\"top\">2012-06-17</th>\n",
       "      <th>728</th>\n",
       "      <td>4</td>\n",
       "    </tr>\n",
       "    <tr>\n",
       "      <th>11764</th>\n",
       "      <td>3</td>\n",
       "    </tr>\n",
       "    <tr>\n",
       "      <th rowspan=\"2\" valign=\"top\">2012-06-24</th>\n",
       "      <th>1693</th>\n",
       "      <td>3</td>\n",
       "    </tr>\n",
       "    <tr>\n",
       "      <th>5297</th>\n",
       "      <td>3</td>\n",
       "    </tr>\n",
       "    <tr>\n",
       "      <th>2012-07-01</th>\n",
       "      <th>6171</th>\n",
       "      <td>3</td>\n",
       "    </tr>\n",
       "    <tr>\n",
       "      <th rowspan=\"8\" valign=\"top\">2012-07-08</th>\n",
       "      <th>69</th>\n",
       "      <td>4</td>\n",
       "    </tr>\n",
       "    <tr>\n",
       "      <th>1693</th>\n",
       "      <td>3</td>\n",
       "    </tr>\n",
       "    <tr>\n",
       "      <th>2078</th>\n",
       "      <td>3</td>\n",
       "    </tr>\n",
       "    <tr>\n",
       "      <th>3623</th>\n",
       "      <td>3</td>\n",
       "    </tr>\n",
       "    <tr>\n",
       "      <th>5297</th>\n",
       "      <td>3</td>\n",
       "    </tr>\n",
       "    <tr>\n",
       "      <th>6978</th>\n",
       "      <td>3</td>\n",
       "    </tr>\n",
       "    <tr>\n",
       "      <th>7590</th>\n",
       "      <td>3</td>\n",
       "    </tr>\n",
       "    <tr>\n",
       "      <th>9510</th>\n",
       "      <td>3</td>\n",
       "    </tr>\n",
       "    <tr>\n",
       "      <th rowspan=\"6\" valign=\"top\">2012-07-15</th>\n",
       "      <th>510</th>\n",
       "      <td>5</td>\n",
       "    </tr>\n",
       "    <tr>\n",
       "      <th>1280</th>\n",
       "      <td>4</td>\n",
       "    </tr>\n",
       "    <tr>\n",
       "      <th>1339</th>\n",
       "      <td>3</td>\n",
       "    </tr>\n",
       "    <tr>\n",
       "      <th>6978</th>\n",
       "      <td>4</td>\n",
       "    </tr>\n",
       "    <tr>\n",
       "      <th>7529</th>\n",
       "      <td>6</td>\n",
       "    </tr>\n",
       "    <tr>\n",
       "      <th>7991</th>\n",
       "      <td>3</td>\n",
       "    </tr>\n",
       "  </tbody>\n",
       "</table>\n",
       "</div>"
      ],
      "text/plain": [
       "                    visited\n",
       "time_stamp user_id         \n",
       "2012-06-10 1693           3\n",
       "2012-06-17 728            4\n",
       "           11764          3\n",
       "2012-06-24 1693           3\n",
       "           5297           3\n",
       "2012-07-01 6171           3\n",
       "2012-07-08 69             4\n",
       "           1693           3\n",
       "           2078           3\n",
       "           3623           3\n",
       "           5297           3\n",
       "           6978           3\n",
       "           7590           3\n",
       "           9510           3\n",
       "2012-07-15 510            5\n",
       "           1280           4\n",
       "           1339           3\n",
       "           6978           4\n",
       "           7529           6\n",
       "           7991           3"
      ]
     },
     "execution_count": 10,
     "metadata": {},
     "output_type": "execute_result"
    }
   ],
   "source": [
    "df1.head(20)"
   ]
  },
  {
   "cell_type": "code",
   "execution_count": 11,
   "id": "abf078d7",
   "metadata": {},
   "outputs": [],
   "source": [
    "# the userid members are considered as adopted users \n",
    "s=set()\n",
    "for i,j in df1.index:\n",
    "    s.add(j)\n",
    "s=list(s)\n",
    "s.sort()"
   ]
  },
  {
   "cell_type": "code",
   "execution_count": 12,
   "id": "8fd524d0",
   "metadata": {},
   "outputs": [
    {
     "data": {
      "text/plain": [
       "[2, 10, 20, 33, 42]"
      ]
     },
     "execution_count": 12,
     "metadata": {},
     "output_type": "execute_result"
    }
   ],
   "source": [
    "# the adopted users are\n",
    "s[:5]"
   ]
  },
  {
   "cell_type": "code",
   "execution_count": 13,
   "id": "6b8237bf",
   "metadata": {
    "scrolled": true
   },
   "outputs": [
    {
     "data": {
      "text/html": [
       "<div>\n",
       "<style scoped>\n",
       "    .dataframe tbody tr th:only-of-type {\n",
       "        vertical-align: middle;\n",
       "    }\n",
       "\n",
       "    .dataframe tbody tr th {\n",
       "        vertical-align: top;\n",
       "    }\n",
       "\n",
       "    .dataframe thead th {\n",
       "        text-align: right;\n",
       "    }\n",
       "</style>\n",
       "<table border=\"1\" class=\"dataframe\">\n",
       "  <thead>\n",
       "    <tr style=\"text-align: right;\">\n",
       "      <th></th>\n",
       "      <th>creation_time</th>\n",
       "      <th>name</th>\n",
       "      <th>email</th>\n",
       "      <th>creation_source</th>\n",
       "      <th>last_session_creation_time</th>\n",
       "      <th>opted_in_to_mailing_list</th>\n",
       "      <th>enabled_for_marketing_drip</th>\n",
       "      <th>org_id</th>\n",
       "      <th>invited_by_user_id</th>\n",
       "    </tr>\n",
       "    <tr>\n",
       "      <th>object_id</th>\n",
       "      <th></th>\n",
       "      <th></th>\n",
       "      <th></th>\n",
       "      <th></th>\n",
       "      <th></th>\n",
       "      <th></th>\n",
       "      <th></th>\n",
       "      <th></th>\n",
       "      <th></th>\n",
       "    </tr>\n",
       "  </thead>\n",
       "  <tbody>\n",
       "    <tr>\n",
       "      <th>1</th>\n",
       "      <td>2014-04-22 03:53:30</td>\n",
       "      <td>Clausen August</td>\n",
       "      <td>AugustCClausen@yahoo.com</td>\n",
       "      <td>GUEST_INVITE</td>\n",
       "      <td>1.398139e+09</td>\n",
       "      <td>1</td>\n",
       "      <td>0</td>\n",
       "      <td>11</td>\n",
       "      <td>10803.0</td>\n",
       "    </tr>\n",
       "    <tr>\n",
       "      <th>2</th>\n",
       "      <td>2013-11-15 03:45:04</td>\n",
       "      <td>Poole Matthew</td>\n",
       "      <td>MatthewPoole@gustr.com</td>\n",
       "      <td>ORG_INVITE</td>\n",
       "      <td>1.396238e+09</td>\n",
       "      <td>0</td>\n",
       "      <td>0</td>\n",
       "      <td>1</td>\n",
       "      <td>316.0</td>\n",
       "    </tr>\n",
       "    <tr>\n",
       "      <th>3</th>\n",
       "      <td>2013-03-19 23:14:52</td>\n",
       "      <td>Bottrill Mitchell</td>\n",
       "      <td>MitchellBottrill@gustr.com</td>\n",
       "      <td>ORG_INVITE</td>\n",
       "      <td>1.363735e+09</td>\n",
       "      <td>0</td>\n",
       "      <td>0</td>\n",
       "      <td>94</td>\n",
       "      <td>1525.0</td>\n",
       "    </tr>\n",
       "    <tr>\n",
       "      <th>4</th>\n",
       "      <td>2013-05-21 08:09:28</td>\n",
       "      <td>Clausen Nicklas</td>\n",
       "      <td>NicklasSClausen@yahoo.com</td>\n",
       "      <td>GUEST_INVITE</td>\n",
       "      <td>1.369210e+09</td>\n",
       "      <td>0</td>\n",
       "      <td>0</td>\n",
       "      <td>1</td>\n",
       "      <td>5151.0</td>\n",
       "    </tr>\n",
       "    <tr>\n",
       "      <th>5</th>\n",
       "      <td>2013-01-17 10:14:20</td>\n",
       "      <td>Raw Grace</td>\n",
       "      <td>GraceRaw@yahoo.com</td>\n",
       "      <td>GUEST_INVITE</td>\n",
       "      <td>1.358850e+09</td>\n",
       "      <td>0</td>\n",
       "      <td>0</td>\n",
       "      <td>193</td>\n",
       "      <td>5240.0</td>\n",
       "    </tr>\n",
       "  </tbody>\n",
       "</table>\n",
       "</div>"
      ],
      "text/plain": [
       "                 creation_time               name                       email  \\\n",
       "object_id                                                                       \n",
       "1          2014-04-22 03:53:30     Clausen August    AugustCClausen@yahoo.com   \n",
       "2          2013-11-15 03:45:04      Poole Matthew      MatthewPoole@gustr.com   \n",
       "3          2013-03-19 23:14:52  Bottrill Mitchell  MitchellBottrill@gustr.com   \n",
       "4          2013-05-21 08:09:28    Clausen Nicklas   NicklasSClausen@yahoo.com   \n",
       "5          2013-01-17 10:14:20          Raw Grace          GraceRaw@yahoo.com   \n",
       "\n",
       "          creation_source  last_session_creation_time  \\\n",
       "object_id                                               \n",
       "1            GUEST_INVITE                1.398139e+09   \n",
       "2              ORG_INVITE                1.396238e+09   \n",
       "3              ORG_INVITE                1.363735e+09   \n",
       "4            GUEST_INVITE                1.369210e+09   \n",
       "5            GUEST_INVITE                1.358850e+09   \n",
       "\n",
       "           opted_in_to_mailing_list  enabled_for_marketing_drip  org_id  \\\n",
       "object_id                                                                 \n",
       "1                                 1                           0      11   \n",
       "2                                 0                           0       1   \n",
       "3                                 0                           0      94   \n",
       "4                                 0                           0       1   \n",
       "5                                 0                           0     193   \n",
       "\n",
       "           invited_by_user_id  \n",
       "object_id                      \n",
       "1                     10803.0  \n",
       "2                       316.0  \n",
       "3                      1525.0  \n",
       "4                      5151.0  \n",
       "5                      5240.0  "
      ]
     },
     "execution_count": 13,
     "metadata": {},
     "output_type": "execute_result"
    }
   ],
   "source": [
    "df2=pd.read_csv(\"G:/csv_files/takehome_users.csv\",sep=',', encoding='latin-1',index_col=\"object_id\")\n",
    "df2.head(5)"
   ]
  },
  {
   "cell_type": "code",
   "execution_count": 14,
   "id": "f5ef45d1",
   "metadata": {
    "scrolled": true
   },
   "outputs": [
    {
     "data": {
      "text/plain": [
       "creation_time                    0\n",
       "name                             0\n",
       "email                            0\n",
       "creation_source                  0\n",
       "last_session_creation_time    3177\n",
       "opted_in_to_mailing_list         0\n",
       "enabled_for_marketing_drip       0\n",
       "org_id                           0\n",
       "invited_by_user_id            5583\n",
       "dtype: int64"
      ]
     },
     "execution_count": 14,
     "metadata": {},
     "output_type": "execute_result"
    }
   ],
   "source": [
    "df2.isna().sum()"
   ]
  },
  {
   "cell_type": "code",
   "execution_count": 15,
   "id": "9b102165",
   "metadata": {},
   "outputs": [],
   "source": [
    "# if invited by user is not applicable then we can but zero\n",
    "df2[\"last_session_creation_time\"].fillna(df2[\"last_session_creation_time\"].mean(),inplace=True)\n",
    "df2[\"invited_by_user_id\"].fillna(0,inplace=True)"
   ]
  },
  {
   "cell_type": "code",
   "execution_count": 16,
   "id": "222825bf",
   "metadata": {
    "scrolled": true
   },
   "outputs": [
    {
     "data": {
      "text/plain": [
       "creation_time                 0\n",
       "name                          0\n",
       "email                         0\n",
       "creation_source               0\n",
       "last_session_creation_time    0\n",
       "opted_in_to_mailing_list      0\n",
       "enabled_for_marketing_drip    0\n",
       "org_id                        0\n",
       "invited_by_user_id            0\n",
       "dtype: int64"
      ]
     },
     "execution_count": 16,
     "metadata": {},
     "output_type": "execute_result"
    }
   ],
   "source": [
    "df2.isna().sum()"
   ]
  },
  {
   "cell_type": "code",
   "execution_count": 17,
   "id": "254da56f",
   "metadata": {},
   "outputs": [
    {
     "name": "stdout",
     "output_type": "stream",
     "text": [
      "<class 'pandas.core.frame.DataFrame'>\n",
      "Int64Index: 12000 entries, 1 to 12000\n",
      "Data columns (total 9 columns):\n",
      " #   Column                      Non-Null Count  Dtype  \n",
      "---  ------                      --------------  -----  \n",
      " 0   creation_time               12000 non-null  object \n",
      " 1   name                        12000 non-null  object \n",
      " 2   email                       12000 non-null  object \n",
      " 3   creation_source             12000 non-null  object \n",
      " 4   last_session_creation_time  12000 non-null  float64\n",
      " 5   opted_in_to_mailing_list    12000 non-null  int64  \n",
      " 6   enabled_for_marketing_drip  12000 non-null  int64  \n",
      " 7   org_id                      12000 non-null  int64  \n",
      " 8   invited_by_user_id          12000 non-null  float64\n",
      "dtypes: float64(2), int64(3), object(4)\n",
      "memory usage: 937.5+ KB\n"
     ]
    }
   ],
   "source": [
    "df2.info()"
   ]
  },
  {
   "cell_type": "code",
   "execution_count": 18,
   "id": "f99ae8e5",
   "metadata": {},
   "outputs": [],
   "source": [
    "df2[\"is_adopted_user\"]=0\n",
    "df2.loc[s,\"is_adopted_user\"]=1"
   ]
  },
  {
   "cell_type": "code",
   "execution_count": 19,
   "id": "9421b775",
   "metadata": {
    "scrolled": true
   },
   "outputs": [
    {
     "data": {
      "text/html": [
       "<div>\n",
       "<style scoped>\n",
       "    .dataframe tbody tr th:only-of-type {\n",
       "        vertical-align: middle;\n",
       "    }\n",
       "\n",
       "    .dataframe tbody tr th {\n",
       "        vertical-align: top;\n",
       "    }\n",
       "\n",
       "    .dataframe thead th {\n",
       "        text-align: right;\n",
       "    }\n",
       "</style>\n",
       "<table border=\"1\" class=\"dataframe\">\n",
       "  <thead>\n",
       "    <tr style=\"text-align: right;\">\n",
       "      <th></th>\n",
       "      <th>creation_time</th>\n",
       "      <th>name</th>\n",
       "      <th>email</th>\n",
       "      <th>creation_source</th>\n",
       "      <th>last_session_creation_time</th>\n",
       "      <th>opted_in_to_mailing_list</th>\n",
       "      <th>enabled_for_marketing_drip</th>\n",
       "      <th>org_id</th>\n",
       "      <th>invited_by_user_id</th>\n",
       "      <th>is_adopted_user</th>\n",
       "    </tr>\n",
       "    <tr>\n",
       "      <th>object_id</th>\n",
       "      <th></th>\n",
       "      <th></th>\n",
       "      <th></th>\n",
       "      <th></th>\n",
       "      <th></th>\n",
       "      <th></th>\n",
       "      <th></th>\n",
       "      <th></th>\n",
       "      <th></th>\n",
       "      <th></th>\n",
       "    </tr>\n",
       "  </thead>\n",
       "  <tbody>\n",
       "    <tr>\n",
       "      <th>1</th>\n",
       "      <td>2014-04-22 03:53:30</td>\n",
       "      <td>Clausen August</td>\n",
       "      <td>AugustCClausen@yahoo.com</td>\n",
       "      <td>GUEST_INVITE</td>\n",
       "      <td>1.398139e+09</td>\n",
       "      <td>1</td>\n",
       "      <td>0</td>\n",
       "      <td>11</td>\n",
       "      <td>10803.0</td>\n",
       "      <td>0</td>\n",
       "    </tr>\n",
       "    <tr>\n",
       "      <th>2</th>\n",
       "      <td>2013-11-15 03:45:04</td>\n",
       "      <td>Poole Matthew</td>\n",
       "      <td>MatthewPoole@gustr.com</td>\n",
       "      <td>ORG_INVITE</td>\n",
       "      <td>1.396238e+09</td>\n",
       "      <td>0</td>\n",
       "      <td>0</td>\n",
       "      <td>1</td>\n",
       "      <td>316.0</td>\n",
       "      <td>1</td>\n",
       "    </tr>\n",
       "    <tr>\n",
       "      <th>3</th>\n",
       "      <td>2013-03-19 23:14:52</td>\n",
       "      <td>Bottrill Mitchell</td>\n",
       "      <td>MitchellBottrill@gustr.com</td>\n",
       "      <td>ORG_INVITE</td>\n",
       "      <td>1.363735e+09</td>\n",
       "      <td>0</td>\n",
       "      <td>0</td>\n",
       "      <td>94</td>\n",
       "      <td>1525.0</td>\n",
       "      <td>0</td>\n",
       "    </tr>\n",
       "    <tr>\n",
       "      <th>4</th>\n",
       "      <td>2013-05-21 08:09:28</td>\n",
       "      <td>Clausen Nicklas</td>\n",
       "      <td>NicklasSClausen@yahoo.com</td>\n",
       "      <td>GUEST_INVITE</td>\n",
       "      <td>1.369210e+09</td>\n",
       "      <td>0</td>\n",
       "      <td>0</td>\n",
       "      <td>1</td>\n",
       "      <td>5151.0</td>\n",
       "      <td>0</td>\n",
       "    </tr>\n",
       "    <tr>\n",
       "      <th>5</th>\n",
       "      <td>2013-01-17 10:14:20</td>\n",
       "      <td>Raw Grace</td>\n",
       "      <td>GraceRaw@yahoo.com</td>\n",
       "      <td>GUEST_INVITE</td>\n",
       "      <td>1.358850e+09</td>\n",
       "      <td>0</td>\n",
       "      <td>0</td>\n",
       "      <td>193</td>\n",
       "      <td>5240.0</td>\n",
       "      <td>0</td>\n",
       "    </tr>\n",
       "  </tbody>\n",
       "</table>\n",
       "</div>"
      ],
      "text/plain": [
       "                 creation_time               name                       email  \\\n",
       "object_id                                                                       \n",
       "1          2014-04-22 03:53:30     Clausen August    AugustCClausen@yahoo.com   \n",
       "2          2013-11-15 03:45:04      Poole Matthew      MatthewPoole@gustr.com   \n",
       "3          2013-03-19 23:14:52  Bottrill Mitchell  MitchellBottrill@gustr.com   \n",
       "4          2013-05-21 08:09:28    Clausen Nicklas   NicklasSClausen@yahoo.com   \n",
       "5          2013-01-17 10:14:20          Raw Grace          GraceRaw@yahoo.com   \n",
       "\n",
       "          creation_source  last_session_creation_time  \\\n",
       "object_id                                               \n",
       "1            GUEST_INVITE                1.398139e+09   \n",
       "2              ORG_INVITE                1.396238e+09   \n",
       "3              ORG_INVITE                1.363735e+09   \n",
       "4            GUEST_INVITE                1.369210e+09   \n",
       "5            GUEST_INVITE                1.358850e+09   \n",
       "\n",
       "           opted_in_to_mailing_list  enabled_for_marketing_drip  org_id  \\\n",
       "object_id                                                                 \n",
       "1                                 1                           0      11   \n",
       "2                                 0                           0       1   \n",
       "3                                 0                           0      94   \n",
       "4                                 0                           0       1   \n",
       "5                                 0                           0     193   \n",
       "\n",
       "           invited_by_user_id  is_adopted_user  \n",
       "object_id                                       \n",
       "1                     10803.0                0  \n",
       "2                       316.0                1  \n",
       "3                      1525.0                0  \n",
       "4                      5151.0                0  \n",
       "5                      5240.0                0  "
      ]
     },
     "execution_count": 19,
     "metadata": {},
     "output_type": "execute_result"
    }
   ],
   "source": [
    "df2.head()"
   ]
  },
  {
   "cell_type": "code",
   "execution_count": 20,
   "id": "2a95fa16",
   "metadata": {},
   "outputs": [],
   "source": [
    "# not needed\n",
    "df2.drop([\"name\",\"email\",\"creation_time\"],inplace=True,axis=1)"
   ]
  },
  {
   "cell_type": "code",
   "execution_count": 24,
   "id": "aa29de97",
   "metadata": {},
   "outputs": [
    {
     "data": {
      "image/png": "[encoded data removed]",
      "text/plain": [
       "<Figure size 432x288 with 1 Axes>"
      ]
     },
     "metadata": {
      "needs_background": "light"
     },
     "output_type": "display_data"
    }
   ],
   "source": [
    "plt.bar(x=df2[\"creation_source\"].unique(),height=df2[\"creation_source\"].value_counts())\n",
    "plt.xticks(rotation=60)\n",
    "plt.title(\"ways users created their accounts\")\n",
    "plt.savefig('creation_source.jpg')\n",
    "plt.show()\n",
    "# plt.savefig('creation_source.jpg')"
   ]
  },
  {
   "cell_type": "markdown",
   "id": "24bf481d",
   "metadata": {},
   "source": [
    "most of the users were created their account as guest"
   ]
  },
  {
   "cell_type": "markdown",
   "id": "79ebdb71",
   "metadata": {},
   "source": [
    "# 1. is adopted people opted for marketting drip??"
   ]
  },
  {
   "cell_type": "code",
   "execution_count": 36,
   "id": "19244946",
   "metadata": {
    "scrolled": false
   },
   "outputs": [
    {
     "data": {
      "text/plain": [
       "<seaborn.axisgrid.FacetGrid at 0x1771bf66020>"
      ]
     },
     "execution_count": 36,
     "metadata": {},
     "output_type": "execute_result"
    },
    {
     "data": {
      "image/png": "[encoded data removed]",
      "text/plain": [
       "<Figure size 360x360 with 1 Axes>"
      ]
     },
     "metadata": {
      "needs_background": "light"
     },
     "output_type": "display_data"
    }
   ],
   "source": [
    "sns.catplot(x=\"enabled_for_marketing_drip\",kind=\"count\",data=df2[df2[\"is_adopted_user\"]==1])"
   ]
  },
  {
   "cell_type": "markdown",
   "id": "edbe5dd1",
   "metadata": {},
   "source": [
    "# among adopted users only few enabled..."
   ]
  },
  {
   "cell_type": "markdown",
   "id": "326ca57a",
   "metadata": {},
   "source": [
    "# 2. people invited by users is getting  adopted ??"
   ]
  },
  {
   "cell_type": "code",
   "execution_count": 37,
   "id": "f89c4306",
   "metadata": {},
   "outputs": [
    {
     "data": {
      "text/plain": [
       "<seaborn.axisgrid.FacetGrid at 0x17718c9a530>"
      ]
     },
     "execution_count": 37,
     "metadata": {},
     "output_type": "execute_result"
    },
    {
     "data": {
      "image/png": "[encoded data removed]",
      "text/plain": [
       "<Figure size 360x360 with 1 Axes>"
      ]
     },
     "metadata": {
      "needs_background": "light"
     },
     "output_type": "display_data"
    }
   ],
   "source": [
    "sns.catplot(x=\"is_adopted_user\",kind=\"count\",data=df2[df2[\"invited_by_user_id\"]!=0])"
   ]
  },
  {
   "cell_type": "code",
   "execution_count": 38,
   "id": "fca59142",
   "metadata": {},
   "outputs": [
    {
     "name": "stdout",
     "output_type": "stream",
     "text": [
      "------------------------------------------------------------------------------\n",
      "Precentage of people invited by users is converted into adopted users is 0.127\n",
      "------------------------------------------------------------------------------\n"
     ]
    }
   ],
   "source": [
    "var=df2[(df2[\"invited_by_user_id\"]!=0) & (df2[\"is_adopted_user\"]==1)].shape[0]/df2[df2[\"invited_by_user_id\"]!=0].shape[0]\n",
    "print(\"------------------------------------------------------------------------------\")\n",
    "print(f\"Precentage of people invited by users is converted into adopted users is {round(var,3)}\")\n",
    "print(\"------------------------------------------------------------------------------\")"
   ]
  },
  {
   "cell_type": "markdown",
   "id": "057ec8f0",
   "metadata": {},
   "source": [
    "# 3. In which organisation where most of the people are adopted users"
   ]
  },
  {
   "cell_type": "code",
   "execution_count": 39,
   "id": "68238294",
   "metadata": {},
   "outputs": [],
   "source": [
    "list=[]\n",
    "for i in df2[\"org_id\"].unique():\n",
    "    num=df2[ (df2[\"is_adopted_user\"]==1) & (df2[\"org_id\"]==i) ].shape[0]\n",
    "    denom=df2[df2[\"org_id\"]==i].shape[0]\n",
    "    list.append((i,round(num/denom,2)))"
   ]
  },
  {
   "cell_type": "code",
   "execution_count": 40,
   "id": "897f6da7",
   "metadata": {},
   "outputs": [],
   "source": [
    "list.sort(key=lambda x:x[1],reverse=True)"
   ]
  },
  {
   "cell_type": "code",
   "execution_count": 41,
   "id": "51db3140",
   "metadata": {
    "scrolled": true
   },
   "outputs": [
    {
     "name": "stdout",
     "output_type": "stream",
     "text": [
      "the following gropus has highest percentage of adopted users:\n",
      "the group is-->387    and it has percentage of adopted users -->0.5\n",
      "the group is-->235    and it has percentage of adopted users -->0.46\n",
      "the group is-->270    and it has percentage of adopted users -->0.43\n",
      "the group is-->415    and it has percentage of adopted users -->0.38\n",
      "the group is-->399    and it has percentage of adopted users -->0.38\n",
      "the group is-->400    and it has percentage of adopted users -->0.38\n",
      "the group is-->345    and it has percentage of adopted users -->0.36\n",
      "the group is-->318    and it has percentage of adopted users -->0.35\n",
      "the group is-->306    and it has percentage of adopted users -->0.33\n",
      "the group is-->281    and it has percentage of adopted users -->0.33\n"
     ]
    }
   ],
   "source": [
    "list[:20]\n",
    "print(f\"the following gropus has highest percentage of adopted users:\")\n",
    "for i,j in list[:10]:\n",
    "    print (f\"the group is-->{i}    and it has percentage of adopted users -->{j}\")"
   ]
  },
  {
   "cell_type": "code",
   "execution_count": 42,
   "id": "4bcb0bdd",
   "metadata": {},
   "outputs": [
    {
     "data": {
      "text/plain": [
       "Text(0, 0.5, 'percentage of adopted users in their group')"
      ]
     },
     "execution_count": 42,
     "metadata": {},
     "output_type": "execute_result"
    },
    {
     "data": {
      "image/png": "[encoded data removed]",
      "text/plain": [
       "<Figure size 432x288 with 1 Axes>"
      ]
     },
     "metadata": {
      "needs_background": "light"
     },
     "output_type": "display_data"
    }
   ],
   "source": [
    "plt.bar(x=[str(i) for i,j in list[:10]],height=[j for i,j in list[:10]],color=\"g\")\n",
    "plt.xlabel(\"Group_ID\")\n",
    "plt.ylabel(\"percentage of adopted users in their group\")"
   ]
  },
  {
   "cell_type": "markdown",
   "id": "9556a5b5",
   "metadata": {},
   "source": [
    "# 4.is there chance of getting adopted user  when people is invited by user id?"
   ]
  },
  {
   "cell_type": "code",
   "execution_count": 43,
   "id": "e1393279",
   "metadata": {
    "scrolled": false
   },
   "outputs": [
    {
     "data": {
      "image/png": "[encoded data removed]",
      "text/plain": [
       "<Figure size 360x360 with 1 Axes>"
      ]
     },
     "metadata": {
      "needs_background": "light"
     },
     "output_type": "display_data"
    },
    {
     "data": {
      "image/png": "[encoded data removed]",
      "text/plain": [
       "<Figure size 360x360 with 1 Axes>"
      ]
     },
     "metadata": {
      "needs_background": "light"
     },
     "output_type": "display_data"
    }
   ],
   "source": [
    "sns.catplot(x=\"is_adopted_user\",kind=\"count\",data=df2[df2[\"invited_by_user_id\"]==0])\n",
    "plt.title(\"not invited by user id\")\n",
    "plt.show()\n",
    "sns.catplot(x=\"is_adopted_user\",kind=\"count\",data=df2[df2[\"invited_by_user_id\"]!=0])\n",
    "plt.title(\"invited by user id\")\n",
    "plt.show()"
   ]
  },
  {
   "cell_type": "markdown",
   "id": "cf7aeb56",
   "metadata": {},
   "source": [
    "# there is no influence of invite by userids in becoming adopted users"
   ]
  },
  {
   "cell_type": "code",
   "execution_count": 44,
   "id": "925766f1",
   "metadata": {},
   "outputs": [],
   "source": [
    "# since creation_source is catagorical \n",
    "df2=pd.get_dummies(df2,\"creation_source\",drop_first=True)\n"
   ]
  },
  {
   "cell_type": "code",
   "execution_count": 45,
   "id": "6cfda74b",
   "metadata": {},
   "outputs": [],
   "source": [
    "x=df2.drop(\"is_adopted_user\",axis=1)\n",
    "y=df2[\"is_adopted_user\"]"
   ]
  },
  {
   "cell_type": "code",
   "execution_count": 46,
   "id": "a1ba371e",
   "metadata": {},
   "outputs": [
    {
     "data": {
      "text/plain": [
       "0    10555\n",
       "1     1445\n",
       "Name: is_adopted_user, dtype: int64"
      ]
     },
     "execution_count": 46,
     "metadata": {},
     "output_type": "execute_result"
    }
   ],
   "source": [
    "# since it is not balanced so smote is used to balance the minority\n",
    "y.value_counts()"
   ]
  },
  {
   "cell_type": "code",
   "execution_count": 47,
   "id": "7d2a2d14",
   "metadata": {},
   "outputs": [],
   "source": [
    "from imblearn.over_sampling import SMOTE\n",
    "smote=SMOTE( sampling_strategy=\"minority\")"
   ]
  },
  {
   "cell_type": "code",
   "execution_count": 48,
   "id": "4899ae5f",
   "metadata": {},
   "outputs": [],
   "source": [
    "balanced_x,balanced_y= smote.fit_resample(x,y)"
   ]
  },
  {
   "cell_type": "code",
   "execution_count": 49,
   "id": "04407d54",
   "metadata": {},
   "outputs": [
    {
     "data": {
      "text/plain": [
       "0    10555\n",
       "1    10555\n",
       "Name: is_adopted_user, dtype: int64"
      ]
     },
     "execution_count": 49,
     "metadata": {},
     "output_type": "execute_result"
    }
   ],
   "source": [
    "balanced_y.value_counts()"
   ]
  },
  {
   "cell_type": "code",
   "execution_count": 50,
   "id": "8bcbf246",
   "metadata": {},
   "outputs": [],
   "source": [
    "x_train,x_test,y_train,y_test=train_test_split(balanced_x,balanced_y,random_state=20,test_size=.30)"
   ]
  },
  {
   "cell_type": "code",
   "execution_count": 51,
   "id": "33bfcb79",
   "metadata": {},
   "outputs": [
    {
     "data": {
      "text/plain": [
       "(14777, 6333)"
      ]
     },
     "execution_count": 51,
     "metadata": {},
     "output_type": "execute_result"
    }
   ],
   "source": [
    "len(x_train),len(x_test)"
   ]
  },
  {
   "cell_type": "code",
   "execution_count": 52,
   "id": "0672ecc8",
   "metadata": {},
   "outputs": [
    {
     "data": {
      "text/plain": [
       "1    3169\n",
       "0    3164\n",
       "Name: is_adopted_user, dtype: int64"
      ]
     },
     "execution_count": 52,
     "metadata": {},
     "output_type": "execute_result"
    }
   ],
   "source": [
    "y_test.value_counts()"
   ]
  },
  {
   "cell_type": "code",
   "execution_count": 53,
   "id": "184f81cc",
   "metadata": {},
   "outputs": [],
   "source": [
    "# lets normalise the data\n",
    "st=StandardScaler()\n",
    "st.fit(x_train)\n",
    "x_train=st.transform(x_train)\n",
    "x_test=st.transform(x_test)"
   ]
  },
  {
   "cell_type": "code",
   "execution_count": 54,
   "id": "e6a60525",
   "metadata": {},
   "outputs": [
    {
     "data": {
      "text/plain": [
       "LogisticRegression()"
      ]
     },
     "execution_count": 54,
     "metadata": {},
     "output_type": "execute_result"
    }
   ],
   "source": [
    "lr=LogisticRegression()\n",
    "lr.fit(x_train,y_train)"
   ]
  },
  {
   "cell_type": "code",
   "execution_count": 55,
   "id": "6da54f25",
   "metadata": {},
   "outputs": [
    {
     "name": "stdout",
     "output_type": "stream",
     "text": [
      "the AUC score for training data: 0.9211885835611806\n"
     ]
    }
   ],
   "source": [
    "train_score=cross_val_score(lr,x_train,y_train,scoring=\"roc_auc\")\n",
    "print(\"the AUC score for training data:\",train_score.mean())"
   ]
  },
  {
   "cell_type": "code",
   "execution_count": 56,
   "id": "79d00cd5",
   "metadata": {},
   "outputs": [],
   "source": [
    "from sklearn.metrics import classification_report,roc_curve,roc_auc_score"
   ]
  },
  {
   "cell_type": "code",
   "execution_count": 57,
   "id": "560e5995",
   "metadata": {},
   "outputs": [],
   "source": [
    "y_pred=lr.predict(x_test)"
   ]
  },
  {
   "cell_type": "code",
   "execution_count": 58,
   "id": "95163df8",
   "metadata": {},
   "outputs": [
    {
     "name": "stdout",
     "output_type": "stream",
     "text": [
      "              precision    recall  f1-score   support\n",
      "\n",
      " not adopted       0.86      0.83      0.84      3164\n",
      "     adopted       0.84      0.86      0.85      3169\n",
      "\n",
      "    accuracy                           0.85      6333\n",
      "   macro avg       0.85      0.85      0.85      6333\n",
      "weighted avg       0.85      0.85      0.85      6333\n",
      "\n"
     ]
    }
   ],
   "source": [
    "print(classification_report(y_pred=y_pred,y_true=y_test,target_names=[\"not adopted\",\"adopted\"]))"
   ]
  },
  {
   "cell_type": "code",
   "execution_count": 59,
   "id": "a5619b73",
   "metadata": {},
   "outputs": [],
   "source": [
    "y_pred_proba=lr.predict_proba(x_test)\n"
   ]
  },
  {
   "cell_type": "code",
   "execution_count": 60,
   "id": "a4f1bb80",
   "metadata": {},
   "outputs": [
    {
     "data": {
      "text/plain": [
       "array([0.01986825, 0.95576475, 0.00411788, ..., 0.12622268, 0.2360025 ,\n",
       "       0.96367213])"
      ]
     },
     "execution_count": 60,
     "metadata": {},
     "output_type": "execute_result"
    }
   ],
   "source": [
    "y_pred_proba[:,1]"
   ]
  },
  {
   "cell_type": "code",
   "execution_count": 61,
   "id": "096afc0c",
   "metadata": {},
   "outputs": [],
   "source": [
    "fpr, tpr, thresholds=roc_curve(y_test,y_pred_proba[:,1])"
   ]
  },
  {
   "cell_type": "code",
   "execution_count": 62,
   "id": "28168f8e",
   "metadata": {},
   "outputs": [
    {
     "data": {
      "image/png": "[encoded data removed]",
      "text/plain": [
       "<Figure size 432x288 with 1 Axes>"
      ]
     },
     "metadata": {
      "needs_background": "light"
     },
     "output_type": "display_data"
    }
   ],
   "source": [
    "score=roc_auc_score(y_test,y_pred_proba[:,1])\n",
    "plt.plot(fpr, tpr,drawstyle=\"steps-post\",marker=\"o\",label=f\"the test score={score}\",color=\"r\")\n",
    "plt.legend(loc='lower right')\n",
    "plt.title(\"ROC CURVE OF LOGISTIC REGRESSION\")\n",
    "plt.show()"
   ]
  },
  {
   "cell_type": "code",
   "execution_count": 63,
   "id": "4cc9964c",
   "metadata": {
    "scrolled": true
   },
   "outputs": [
    {
     "data": {
      "text/plain": [
       "array([[ 1.85485979, -0.27575465, -0.19623265,  0.21553232, -0.40462302,\n",
       "        -0.83680697, -1.08249653, -0.90798589, -0.77641877]])"
      ]
     },
     "execution_count": 63,
     "metadata": {},
     "output_type": "execute_result"
    }
   ],
   "source": [
    "lr.coef_"
   ]
  },
  {
   "cell_type": "code",
   "execution_count": 64,
   "id": "fdc08bfc",
   "metadata": {},
   "outputs": [],
   "source": [
    "result=[*zip(x.columns,lr.coef_[0])]\n",
    "result.sort(reverse=True,key=lambda x:abs(x[1]))\n",
    "final=pd.DataFrame({\"features\":[i for i,j in result],\"Their importance\":[j for i,j in result]})"
   ]
  },
  {
   "cell_type": "markdown",
   "id": "f05a4a71",
   "metadata": {},
   "source": [
    "# based on last login or if he is invited as invited to join another user's personal workspace or if signed up via the website can be considered as adopted user"
   ]
  },
  {
   "cell_type": "markdown",
   "id": "49b89e6c",
   "metadata": {},
   "source": [
    "\"==================================================================================================================\""
   ]
  },
  {
   "cell_type": "markdown",
   "id": "ccf7bad8",
   "metadata": {},
   "source": [
    "import dataframe_image as dfi\n",
    "dfi.export(final, 'dataframe.jpg')"
   ]
  },
  {
   "cell_type": "code",
   "execution_count": null,
   "id": "f6d53af3",
   "metadata": {},
   "outputs": [],
   "source": []
  }
 ],
 "metadata": {
  "kernelspec": {
   "display_name": "pandas_venv",
   "language": "python",
   "name": "pandas_venv"
  },
  "language_info": {
   "codemirror_mode": {
    "name": "ipython",
    "version": 3
   },
   "file_extension": ".py",
   "mimetype": "text/x-python",
   "name": "python",
   "nbconvert_exporter": "python",
   "pygments_lexer": "ipython3",
   "version": "3.10.1"
  }
 },
 "nbformat": 4,
 "nbformat_minor": 5
}
